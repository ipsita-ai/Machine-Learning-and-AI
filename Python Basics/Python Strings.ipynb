{
 "cells": [
  {
   "cell_type": "markdown",
   "id": "9e1d5332",
   "metadata": {},
   "source": [
    "### Python Strings"
   ]
  },
  {
   "cell_type": "code",
   "execution_count": 1,
   "id": "e045c8ec",
   "metadata": {},
   "outputs": [
    {
     "name": "stdout",
     "output_type": "stream",
     "text": [
      "Enter the value of n3\n",
      "2.5\n"
     ]
    }
   ],
   "source": [
    "# Sequence Sum\n",
    "# 1/1! + 2/2! + 3/3!\n",
    "# 1! = 1 , 2! = 1*2 , 3! = 1*2*3 , 4! = 1*2*3*4\n",
    "\n",
    "n = int(input('Enter the value of n'))\n",
    "fact = 1\n",
    "result = 0\n",
    "for i in range(1,n+1):\n",
    "    fact = fact*i\n",
    "    result += i/fact\n",
    "print(result)"
   ]
  },
  {
   "cell_type": "code",
   "execution_count": 2,
   "id": "d58ba296",
   "metadata": {},
   "outputs": [],
   "source": [
    "# Nested loop "
   ]
  },
  {
   "cell_type": "code",
   "execution_count": 3,
   "id": "d114271a",
   "metadata": {},
   "outputs": [
    {
     "name": "stdout",
     "output_type": "stream",
     "text": [
      "1 1\n",
      "1 2\n",
      "1 3\n",
      "1 4\n",
      "2 1\n",
      "2 2\n",
      "2 3\n",
      "2 4\n",
      "3 1\n",
      "3 2\n",
      "3 3\n",
      "3 4\n",
      "4 1\n",
      "4 2\n",
      "4 3\n",
      "4 4\n"
     ]
    }
   ],
   "source": [
    "# Examples unique pair\n",
    "for i in range(1,5):\n",
    "    for j in range(1,5):\n",
    "        print(i,j)"
   ]
  },
  {
   "cell_type": "markdown",
   "id": "1136948a",
   "metadata": {},
   "source": [
    "#### Pattern 1\n",
    "\n",
    "*** <br>\n",
    "**** <br>\n",
    "***<br>\n"
   ]
  },
  {
   "cell_type": "code",
   "execution_count": 4,
   "id": "01646027",
   "metadata": {},
   "outputs": [
    {
     "name": "stdout",
     "output_type": "stream",
     "text": [
      "Enter the number of rows5\n",
      "*\n",
      "**\n",
      "***\n",
      "****\n",
      "*****\n"
     ]
    }
   ],
   "source": [
    "n = int(input('Enter the number of rows'))\n",
    "for i in range(1,n+1):\n",
    "    for j in range(1,i+1):\n",
    "        print('*',end='',sep= '')\n",
    "    print()"
   ]
  },
  {
   "cell_type": "markdown",
   "id": "291061cb",
   "metadata": {},
   "source": [
    "### Pattern 2\n",
    "\n",
    "*********<br>\n",
    "********<br>\n",
    "***<br>\n",
    "**<br>\n",
    "*<br>"
   ]
  },
  {
   "cell_type": "code",
   "execution_count": 6,
   "id": "743d3029",
   "metadata": {},
   "outputs": [
    {
     "name": "stdout",
     "output_type": "stream",
     "text": [
      "Enter the number of rows5\n",
      "*****\n",
      "****\n",
      "***\n",
      "**\n",
      "*\n"
     ]
    }
   ],
   "source": [
    "n = int(input('Enter the number of rows'))\n",
    "for i in range(n,0,-1):\n",
    "    for j in range(1,i+1):\n",
    "        print('*',end='',sep= '')\n",
    "    print()\n",
    "        "
   ]
  },
  {
   "attachments": {
    "image.png": {
     "image/png": "[encoded data removed]"
    }
   },
   "cell_type": "markdown",
   "id": "8143015f",
   "metadata": {},
   "source": [
    "### Pattern 3\n",
    "\n",
    "![image.png](attachment:image.png)"
   ]
  },
  {
   "cell_type": "code",
   "execution_count": 2,
   "id": "7f3e7687",
   "metadata": {},
   "outputs": [
    {
     "name": "stdout",
     "output_type": "stream",
     "text": [
      "Enter the number of rows3\n",
      "*****\n",
      " ***\n",
      "  *\n",
      "   "
     ]
    }
   ],
   "source": [
    "n = int(input('Enter the number of rows'))\n",
    "for i in range(n,0,-1):\n",
    "    for j in range(0,2*i-1):\n",
    "        print('*',sep= ' ',end = '')\n",
    "    print()\n",
    "    for k in range(0,n+1-i):\n",
    "        print(end =' ')"
   ]
  },
  {
   "cell_type": "markdown",
   "id": "a07b84df",
   "metadata": {},
   "source": [
    "#### Pattern 4\n",
    "- 1\n",
    "- 121\n",
    "- 12321\n",
    "- 1234321"
   ]
  },
  {
   "cell_type": "code",
   "execution_count": 10,
   "id": "6bf38f57",
   "metadata": {},
   "outputs": [
    {
     "name": "stdout",
     "output_type": "stream",
     "text": [
      "Enter the number of rows4\n",
      "1\n",
      "121\n",
      "12321\n",
      "1234321\n"
     ]
    }
   ],
   "source": [
    "rows = int(input('Enter the number of rows'))\n",
    "for i in range(1,rows+1):\n",
    "    for j in range(1,i+1):\n",
    "        print(j,end= '')\n",
    "    \n",
    "    for k in range(i-1,0,-1):\n",
    "        print(k,end='')\n",
    "    print()"
   ]
  },
  {
   "cell_type": "code",
   "execution_count": 11,
   "id": "5930ef79",
   "metadata": {},
   "outputs": [],
   "source": [
    "# Loop control statement\n",
    "# Break\n",
    "# Continue\n",
    "# Pass\n"
   ]
  },
  {
   "cell_type": "code",
   "execution_count": 13,
   "id": "1ff7a72a",
   "metadata": {},
   "outputs": [
    {
     "name": "stdout",
     "output_type": "stream",
     "text": [
      "0\n",
      "1\n",
      "2\n",
      "3\n",
      "4\n"
     ]
    }
   ],
   "source": [
    "# Break\n",
    "for i in range(11):\n",
    "    if i == 5:\n",
    "        break\n",
    "    print(i)"
   ]
  },
  {
   "cell_type": "code",
   "execution_count": 14,
   "id": "8cb0eff3",
   "metadata": {},
   "outputs": [
    {
     "name": "stdout",
     "output_type": "stream",
     "text": [
      "Enter the lower range2\n",
      "Enter the upper range10\n",
      "2\n",
      "3\n",
      "5\n",
      "7\n"
     ]
    }
   ],
   "source": [
    "lower = int(input('Enter the lower range'))\n",
    "upper = int(input('Enter the upper range'))\n",
    "for i in range(lower,upper+1):\n",
    "    for j in range(2,i):\n",
    "        if i%j == 0:\n",
    "            break\n",
    "    else:\n",
    "        print(i)"
   ]
  },
  {
   "cell_type": "code",
   "execution_count": 15,
   "id": "ff17c4c7",
   "metadata": {},
   "outputs": [],
   "source": [
    "# continue"
   ]
  },
  {
   "cell_type": "code",
   "execution_count": 17,
   "id": "3eabf273",
   "metadata": {},
   "outputs": [
    {
     "name": "stdout",
     "output_type": "stream",
     "text": [
      "1\n",
      "2\n",
      "3\n",
      "4\n",
      "6\n",
      "7\n",
      "8\n",
      "9\n"
     ]
    }
   ],
   "source": [
    "for i in range(1,10):\n",
    "    if i == 5:\n",
    "        continue\n",
    "    print(i)"
   ]
  },
  {
   "cell_type": "code",
   "execution_count": 18,
   "id": "4e802cd6",
   "metadata": {},
   "outputs": [],
   "source": [
    "# pass \n",
    "for i in range(1,10):\n",
    "    pass"
   ]
  },
  {
   "cell_type": "code",
   "execution_count": 19,
   "id": "99f015e5",
   "metadata": {},
   "outputs": [],
   "source": [
    "# Strings are sequence of unicode charecters"
   ]
  },
  {
   "cell_type": "code",
   "execution_count": 29,
   "id": "37e65eb7",
   "metadata": {},
   "outputs": [],
   "source": [
    "# Creating string \n",
    "s = 'hello'\n",
    "s1 = \"hello\"\n",
    "# for multiline string we use triple inverted commas\n",
    "s2 = '''hello'''\n",
    "s3 = \"\"\"hello\"\"\"\n",
    "s4 = str('hello')"
   ]
  },
  {
   "cell_type": "code",
   "execution_count": 30,
   "id": "381bc18f",
   "metadata": {},
   "outputs": [
    {
     "name": "stdout",
     "output_type": "stream",
     "text": [
      "hello hello hello hello hello\n"
     ]
    }
   ],
   "source": [
    "print(s,s1,s2,s3,s4)"
   ]
  },
  {
   "cell_type": "code",
   "execution_count": 27,
   "id": "28a913c0",
   "metadata": {},
   "outputs": [
    {
     "data": {
      "text/plain": [
       "\"It's is raining outside today\""
      ]
     },
     "execution_count": 27,
     "metadata": {},
     "output_type": "execute_result"
    }
   ],
   "source": [
    "\"It's is raining outside today\""
   ]
  },
  {
   "cell_type": "code",
   "execution_count": 34,
   "id": "d2070679",
   "metadata": {},
   "outputs": [
    {
     "name": "stdout",
     "output_type": "stream",
     "text": [
      "11\n",
      "h\n",
      "e\n",
      "l\n",
      "l\n",
      "o\n",
      " \n",
      "w\n",
      "o\n",
      "r\n",
      "l\n",
      "d\n"
     ]
    }
   ],
   "source": [
    "# Accessing substring from string\n",
    "s = 'hello world'\n",
    "print(len(s))\n",
    "for i in range(len(s)):\n",
    "    print(s[i])"
   ]
  },
  {
   "cell_type": "code",
   "execution_count": 35,
   "id": "5f325ff0",
   "metadata": {},
   "outputs": [
    {
     "name": "stdout",
     "output_type": "stream",
     "text": [
      "d\n",
      "l\n"
     ]
    }
   ],
   "source": [
    "# Negative Indexing\n",
    "s = 'hello world'\n",
    "print(s[-1])\n",
    "print(s[-2])"
   ]
  },
  {
   "cell_type": "code",
   "execution_count": 43,
   "id": "fda2917e",
   "metadata": {},
   "outputs": [
    {
     "name": "stdout",
     "output_type": "stream",
     "text": [
      "hello\n",
      "world\n",
      "hello world\n",
      "hlowrd\n",
      "dlrow olleh\n",
      "world\n",
      "dlrow\n"
     ]
    }
   ],
   "source": [
    "#slicing\n",
    "s = 'hello world'\n",
    "print(s[0:5])\n",
    "print(s[6:])\n",
    "print(s[:])\n",
    "print(s[::2])\n",
    "print(s[::-1])\n",
    "print(s[-5:])\n",
    "print(s[-1:-6:-1])"
   ]
  },
  {
   "cell_type": "code",
   "execution_count": 44,
   "id": "d45a625a",
   "metadata": {},
   "outputs": [
    {
     "ename": "TypeError",
     "evalue": "'str' object does not support item assignment",
     "output_type": "error",
     "traceback": [
      "\u001b[1;31m---------------------------------------------------------------------------\u001b[0m",
      "\u001b[1;31mTypeError\u001b[0m                                 Traceback (most recent call last)",
      "\u001b[1;32m~\\AppData\\Local\\Temp\\ipykernel_19552\\2536610695.py\u001b[0m in \u001b[0;36m<module>\u001b[1;34m\u001b[0m\n\u001b[0;32m      1\u001b[0m \u001b[1;31m# Editing and Deleting in String\u001b[0m\u001b[1;33m\u001b[0m\u001b[1;33m\u001b[0m\u001b[0m\n\u001b[0;32m      2\u001b[0m \u001b[0ms\u001b[0m \u001b[1;33m=\u001b[0m \u001b[1;34m'hello world'\u001b[0m\u001b[1;33m\u001b[0m\u001b[1;33m\u001b[0m\u001b[0m\n\u001b[1;32m----> 3\u001b[1;33m \u001b[0ms\u001b[0m\u001b[1;33m[\u001b[0m\u001b[1;36m0\u001b[0m\u001b[1;33m]\u001b[0m \u001b[1;33m=\u001b[0m \u001b[1;34m'H'\u001b[0m\u001b[1;33m\u001b[0m\u001b[1;33m\u001b[0m\u001b[0m\n\u001b[0m",
      "\u001b[1;31mTypeError\u001b[0m: 'str' object does not support item assignment"
     ]
    }
   ],
   "source": [
    "# Editing and Deleting in String\n",
    "# CANNOT CHANGE THE STRING AS STRINGS ARE IMMUTABLE \n",
    "s = 'hello world'\n",
    "s[0] = 'H'\n"
   ]
  },
  {
   "cell_type": "code",
   "execution_count": 45,
   "id": "aefaec5c",
   "metadata": {},
   "outputs": [
    {
     "ename": "NameError",
     "evalue": "name 's' is not defined",
     "output_type": "error",
     "traceback": [
      "\u001b[1;31m---------------------------------------------------------------------------\u001b[0m",
      "\u001b[1;31mNameError\u001b[0m                                 Traceback (most recent call last)",
      "\u001b[1;32m~\\AppData\\Local\\Temp\\ipykernel_19552\\3706927383.py\u001b[0m in \u001b[0;36m<module>\u001b[1;34m\u001b[0m\n\u001b[0;32m      2\u001b[0m \u001b[0ms\u001b[0m \u001b[1;33m=\u001b[0m \u001b[1;34m'Hello world'\u001b[0m\u001b[1;33m\u001b[0m\u001b[1;33m\u001b[0m\u001b[0m\n\u001b[0;32m      3\u001b[0m \u001b[1;32mdel\u001b[0m\u001b[1;33m(\u001b[0m\u001b[0ms\u001b[0m\u001b[1;33m)\u001b[0m\u001b[1;33m\u001b[0m\u001b[1;33m\u001b[0m\u001b[0m\n\u001b[1;32m----> 4\u001b[1;33m \u001b[0mprint\u001b[0m\u001b[1;33m(\u001b[0m\u001b[0ms\u001b[0m\u001b[1;33m)\u001b[0m\u001b[1;33m\u001b[0m\u001b[1;33m\u001b[0m\u001b[0m\n\u001b[0m",
      "\u001b[1;31mNameError\u001b[0m: name 's' is not defined"
     ]
    }
   ],
   "source": [
    "# deleting string\n",
    "s = 'Hello world'\n",
    "del(s)\n",
    "print(s)"
   ]
  },
  {
   "cell_type": "code",
   "execution_count": 63,
   "id": "2f86bac1",
   "metadata": {},
   "outputs": [
    {
     "name": "stdout",
     "output_type": "stream",
     "text": [
      "hello world\n",
      "********************\n",
      "False\n",
      "True\n",
      "True\n",
      "True\n",
      "False\n",
      "world\n",
      "hello\n",
      "True\n",
      "False\n",
      "h\n",
      "e\n",
      "l\n",
      "l\n",
      "o\n",
      "pune\n",
      "pune\n",
      "pune\n",
      "pune\n",
      "pune\n"
     ]
    },
    {
     "data": {
      "text/plain": [
       "True"
      ]
     },
     "execution_count": 63,
     "metadata": {},
     "output_type": "execute_result"
    }
   ],
   "source": [
    "# Operations on strings\n",
    "\n",
    "# Arithmetic operators\n",
    "s = 'hello'\n",
    "t = 'world'\n",
    "s_t = s + ' ' + t\n",
    "print(s_t)\n",
    "\n",
    "s = '**'\n",
    "print(s*10)\n",
    "\n",
    "# relational operators\n",
    "# lexiographical comparision\n",
    "print('delhi' == 'mumbai')\n",
    "print('delhi' > 'Delhi')\n",
    "print('delhi' != 'mumbai')\n",
    "print('mumbai' < 'pune')\n",
    "print('Pune' > 'pune')\n",
    "\n",
    "# logical operators\n",
    "\n",
    "print('hello' and 'world')\n",
    "print('hello' or 'world')\n",
    "print(not(''))\n",
    "print(not('hello'))\n",
    "\n",
    "# loops on strings\n",
    "# strings in python are iterable\n",
    "for i in 'hello':\n",
    "    print(i)\n",
    "    \n",
    "for i in 'delhi':\n",
    "    print('pune')\n",
    "    \n",
    "# Membership operators\n",
    "'d' in 'delhi'\n"
   ]
  },
  {
   "cell_type": "code",
   "execution_count": 70,
   "id": "50afac62",
   "metadata": {},
   "outputs": [],
   "source": [
    "# String Functions"
   ]
  },
  {
   "cell_type": "code",
   "execution_count": 71,
   "id": "f6562093",
   "metadata": {},
   "outputs": [
    {
     "data": {
      "text/plain": [
       "11"
      ]
     },
     "execution_count": 71,
     "metadata": {},
     "output_type": "execute_result"
    }
   ],
   "source": [
    "len('hello world')"
   ]
  },
  {
   "cell_type": "code",
   "execution_count": 72,
   "id": "39f2d587",
   "metadata": {},
   "outputs": [
    {
     "data": {
      "text/plain": [
       "'d'"
      ]
     },
     "execution_count": 72,
     "metadata": {},
     "output_type": "execute_result"
    }
   ],
   "source": [
    "min('helloworld')"
   ]
  },
  {
   "cell_type": "code",
   "execution_count": 73,
   "id": "457979f4",
   "metadata": {},
   "outputs": [
    {
     "data": {
      "text/plain": [
       "'w'"
      ]
     },
     "execution_count": 73,
     "metadata": {},
     "output_type": "execute_result"
    }
   ],
   "source": [
    "max('helloworld')"
   ]
  },
  {
   "cell_type": "code",
   "execution_count": 75,
   "id": "3d001d49",
   "metadata": {},
   "outputs": [
    {
     "data": {
      "text/plain": [
       "['w', 'r', 'o', 'o', 'l', 'l', 'l', 'h', 'e', 'd']"
      ]
     },
     "execution_count": 75,
     "metadata": {},
     "output_type": "execute_result"
    }
   ],
   "source": [
    "sorted('helloworld',reverse = True)"
   ]
  },
  {
   "cell_type": "code",
   "execution_count": 65,
   "id": "db4f7456",
   "metadata": {},
   "outputs": [
    {
     "data": {
      "text/plain": [
       "'Hello world'"
      ]
     },
     "execution_count": 65,
     "metadata": {},
     "output_type": "execute_result"
    }
   ],
   "source": [
    "# Capitalise/upper/lower/swapcase/title\n",
    "s = 'hello world'\n",
    "s.capitalize()"
   ]
  },
  {
   "cell_type": "code",
   "execution_count": 66,
   "id": "de86f687",
   "metadata": {},
   "outputs": [
    {
     "data": {
      "text/plain": [
       "'HELLO WORLD'"
      ]
     },
     "execution_count": 66,
     "metadata": {},
     "output_type": "execute_result"
    }
   ],
   "source": [
    "s.upper()"
   ]
  },
  {
   "cell_type": "code",
   "execution_count": 67,
   "id": "e58d1062",
   "metadata": {},
   "outputs": [
    {
     "data": {
      "text/plain": [
       "'hello world'"
      ]
     },
     "execution_count": 67,
     "metadata": {},
     "output_type": "execute_result"
    }
   ],
   "source": [
    "s.lower()"
   ]
  },
  {
   "cell_type": "code",
   "execution_count": 68,
   "id": "17645380",
   "metadata": {},
   "outputs": [
    {
     "data": {
      "text/plain": [
       "'Hello World'"
      ]
     },
     "execution_count": 68,
     "metadata": {},
     "output_type": "execute_result"
    }
   ],
   "source": [
    "s.title()"
   ]
  },
  {
   "cell_type": "code",
   "execution_count": 76,
   "id": "0588bb19",
   "metadata": {},
   "outputs": [
    {
     "data": {
      "text/plain": [
       "'HELLO WORLD'"
      ]
     },
     "execution_count": 76,
     "metadata": {},
     "output_type": "execute_result"
    }
   ],
   "source": [
    "s.swapcase()"
   ]
  },
  {
   "cell_type": "code",
   "execution_count": 79,
   "id": "919e7872",
   "metadata": {},
   "outputs": [
    {
     "name": "stdout",
     "output_type": "stream",
     "text": [
      "2\n",
      "14\n",
      "10\n"
     ]
    }
   ],
   "source": [
    "# count/find/index\n",
    "print(s.count('o'))\n",
    "print('where is your home.is ipsita at your home'.find('home'))\n",
    "print('hello world'.index('d'))"
   ]
  },
  {
   "cell_type": "code",
   "execution_count": 80,
   "id": "02028ea0",
   "metadata": {},
   "outputs": [
    {
     "name": "stdout",
     "output_type": "stream",
     "text": [
      "True\n",
      "True\n"
     ]
    }
   ],
   "source": [
    "# endswith / startswith\n",
    "print('ipsita'.endswith('ta'))\n",
    "print('my name is ipsita panda'.startswith('my'))"
   ]
  },
  {
   "cell_type": "code",
   "execution_count": 84,
   "id": "0d5f3a2c",
   "metadata": {},
   "outputs": [
    {
     "name": "stdout",
     "output_type": "stream",
     "text": [
      "Hi my name is ipsita and my gender is female\n",
      "hi my name is ipsita and my gender is female\n",
      "hi my name is ipsita and my gender is female\n"
     ]
    }
   ],
   "source": [
    "# f string and format\n",
    "name = 'ipsita'\n",
    "gender = 'female'\n",
    "print(f'Hi my name is {name} and my gender is {gender}')\n",
    "print('hi my name is {} and my gender is {}'.format(name,gender))\n",
    "print('hi my name is {1} and my gender is {0}'.format(gender,name))"
   ]
  },
  {
   "cell_type": "code",
   "execution_count": 88,
   "id": "0623f3ce",
   "metadata": {},
   "outputs": [
    {
     "name": "stdout",
     "output_type": "stream",
     "text": [
      "True\n",
      "False\n",
      "True\n",
      "False\n",
      "True\n",
      "False\n"
     ]
    }
   ],
   "source": [
    "# isalnum/isalpha/isdigit/isidentifier\n",
    "print('ipsita123'.isalnum())\n",
    "print('ipsita123%'.isalnum())\n",
    "print('ipsita'.isalpha())\n",
    "print('ipsita123%'.isalpha())\n",
    "print('1234'.isdigit())\n",
    "print('hello-world'.isidentifier())"
   ]
  },
  {
   "cell_type": "code",
   "execution_count": 89,
   "id": "c689e40d",
   "metadata": {},
   "outputs": [
    {
     "data": {
      "text/plain": [
       "['Hi', 'my', 'name', 'is', 'Ipsita', 'Panda']"
      ]
     },
     "execution_count": 89,
     "metadata": {},
     "output_type": "execute_result"
    }
   ],
   "source": [
    "# split\n",
    "'Hi my name is Ipsita Panda'.split()"
   ]
  },
  {
   "cell_type": "code",
   "execution_count": 90,
   "id": "be218a38",
   "metadata": {},
   "outputs": [
    {
     "data": {
      "text/plain": [
       "['H', ' my name ', 's Ips', 'ta Panda']"
      ]
     },
     "execution_count": 90,
     "metadata": {},
     "output_type": "execute_result"
    }
   ],
   "source": [
    "'Hi my name is Ipsita Panda'.split('i')"
   ]
  },
  {
   "cell_type": "code",
   "execution_count": 92,
   "id": "306d1b7c",
   "metadata": {},
   "outputs": [
    {
     "data": {
      "text/plain": [
       "'Hi my name is Ipsita panda'"
      ]
     },
     "execution_count": 92,
     "metadata": {},
     "output_type": "execute_result"
    }
   ],
   "source": [
    "#join \n",
    "\" \".join(['Hi','my','name','is','Ipsita','panda'])"
   ]
  },
  {
   "cell_type": "code",
   "execution_count": 93,
   "id": "2e5a8b86",
   "metadata": {},
   "outputs": [
    {
     "data": {
      "text/plain": [
       "'Hi my name is ipsita panda'"
      ]
     },
     "execution_count": 93,
     "metadata": {},
     "output_type": "execute_result"
    }
   ],
   "source": [
    "# Replace\n",
    "'Hi my name is Ipsita panda'.replace('Ipsita','ipsita')"
   ]
  },
  {
   "cell_type": "code",
   "execution_count": 94,
   "id": "21131fee",
   "metadata": {},
   "outputs": [
    {
     "data": {
      "text/plain": [
       "'Hello I am Ipsita Panda'"
      ]
     },
     "execution_count": 94,
     "metadata": {},
     "output_type": "execute_result"
    }
   ],
   "source": [
    "# strip\n",
    "'  Hello I am Ipsita Panda         '.strip()"
   ]
  },
  {
   "cell_type": "code",
   "execution_count": 95,
   "id": "c3695cbb",
   "metadata": {},
   "outputs": [
    {
     "data": {
      "text/plain": [
       "'Hello I am Ipsita Panda         '"
      ]
     },
     "execution_count": 95,
     "metadata": {},
     "output_type": "execute_result"
    }
   ],
   "source": [
    "'  Hello I am Ipsita Panda         '.lstrip()"
   ]
  },
  {
   "cell_type": "code",
   "execution_count": 96,
   "id": "467f3f8a",
   "metadata": {},
   "outputs": [
    {
     "data": {
      "text/plain": [
       "'  Hello I am Ipsita Panda'"
      ]
     },
     "execution_count": 96,
     "metadata": {},
     "output_type": "execute_result"
    }
   ],
   "source": [
    "'  Hello I am Ipsita Panda         '.rstrip()"
   ]
  },
  {
   "cell_type": "code",
   "execution_count": 1,
   "id": "f2885222",
   "metadata": {},
   "outputs": [
    {
     "name": "stdout",
     "output_type": "stream",
     "text": [
      "enter the string :Ipsita\n",
      "Length of string is 6\n"
     ]
    }
   ],
   "source": [
    "# find the length of a given string without using the len() function\n",
    "\n",
    "s = input('enter the string :')\n",
    "count = 0\n",
    "for i in s:\n",
    "    count += 1\n",
    "print('Length of string is',count)"
   ]
  },
  {
   "cell_type": "code",
   "execution_count": 4,
   "id": "e562b883",
   "metadata": {},
   "outputs": [
    {
     "name": "stdout",
     "output_type": "stream",
     "text": [
      "Enter the email : ipsita.panda@gmail.com\n",
      "The username is  ipsita.panda\n",
      "The username is  ipsita.panda\n"
     ]
    }
   ],
   "source": [
    "# Extract username from a given email\n",
    "# Eg if the email is ipsitapanda@gmail.com\n",
    "# User name is ipsitapanda\n",
    "\n",
    "s = input('Enter the email : ')\n",
    "print('The username is ',s.split('@')[0])\n",
    "\n",
    "# another way\n",
    "pos = s.index('@')\n",
    "print('The username is ',s[:pos])\n"
   ]
  },
  {
   "cell_type": "code",
   "execution_count": 6,
   "id": "233452b7",
   "metadata": {},
   "outputs": [
    {
     "name": "stdout",
     "output_type": "stream",
     "text": [
      "Enter the string : hello how are you\n",
      "What are you searching for : o\n",
      "The frequency of o in \"hello how are you\" is 3\n"
     ]
    }
   ],
   "source": [
    "# Count the frequency of a particular charecter in a provided string\n",
    "# eg 'hello how are you' is the string , the frequency of h in string is 2.\n",
    "\n",
    "s = input('Enter the string : ')\n",
    "search = input('What are you searching for : ')\n",
    "counter = 0\n",
    "for i in s:\n",
    "    if i == search:\n",
    "        counter += 1\n",
    "print('The frequency of {} in \"{}\" is'.format(search,s),counter)"
   ]
  },
  {
   "cell_type": "code",
   "execution_count": 10,
   "id": "7ecc06e0",
   "metadata": {},
   "outputs": [
    {
     "name": "stdout",
     "output_type": "stream",
     "text": [
      "Enter the string : Ipsita is a good girl\n",
      "Enter the charecter you would want to remove : i\n",
      "['Ips', 'ta ', 's a good g', 'rl']\n",
      "Ipsta s a good grl\n",
      "Ipsta s a good grl\n"
     ]
    }
   ],
   "source": [
    "# Write a program which can remove a particular charecter from a string\n",
    "\n",
    "s = input('Enter the string : ')\n",
    "t = input('Enter the charecter you would want to remove : ')\n",
    "a = s.split(t)\n",
    "print(a)\n",
    "print(''.join(a))\n",
    "\n",
    "## Another method\n",
    "result = ''\n",
    "for i in s:\n",
    "    if i != t:\n",
    "        result += i\n",
    "        \n",
    "print(result)"
   ]
  },
  {
   "cell_type": "code",
   "execution_count": 12,
   "id": "65b83382",
   "metadata": {},
   "outputs": [
    {
     "name": "stdout",
     "output_type": "stream",
     "text": [
      "Enter the string for palindrome check : python\n",
      "Not a palindrome\n"
     ]
    }
   ],
   "source": [
    "# Write a program that can check whether a given string is palindrome or not\n",
    "# abba\n",
    "# malayalam\n",
    "\n",
    "s = input('Enter the string for palindrome check : ')\n",
    "flag = True\n",
    "for i in range(0,len(s)//2):\n",
    "    if s[i] != s[len(s)-i-1]:\n",
    "        print('Not a palindrome')\n",
    "        flag = False\n",
    "        break\n",
    "if flag:\n",
    "    print('Palindrome')"
   ]
  },
  {
   "cell_type": "code",
   "execution_count": 5,
   "id": "e3888506",
   "metadata": {},
   "outputs": [
    {
     "name": "stdout",
     "output_type": "stream",
     "text": [
      "Enter the phrase : hey how are you ?\n",
      "5\n"
     ]
    }
   ],
   "source": [
    "# Write a program to count the number of words in a string without split()\n",
    "s = input('Enter the phrase : ')\n",
    "a = []\n",
    "result = ''\n",
    "for i in s:\n",
    "    while i != ' ':\n",
    "        result += i\n",
    "        break\n",
    "    else:\n",
    "        a.append(result)\n",
    "        result = ''\n",
    "a.append(result)\n",
    "print(len(a))"
   ]
  },
  {
   "cell_type": "code",
   "execution_count": 12,
   "id": "2d25c178",
   "metadata": {},
   "outputs": [
    {
     "name": "stdout",
     "output_type": "stream",
     "text": [
      "Enter the phrase : ipsita is a good girl\n"
     ]
    },
    {
     "data": {
      "text/plain": [
       "'Ipsita Is A Good Girl'"
      ]
     },
     "execution_count": 12,
     "metadata": {},
     "output_type": "execute_result"
    }
   ],
   "source": [
    "# Write a python program to convert a string to title case without using title method\n",
    "s = input('Enter the phrase : ')\n",
    "a = []\n",
    "for i in s.split():\n",
    "    a.append(i[0].upper() + i[1:].lower())\n",
    "' '.join(a)"
   ]
  },
  {
   "cell_type": "code",
   "execution_count": 15,
   "id": "eaf32487",
   "metadata": {},
   "outputs": [
    {
     "name": "stdout",
     "output_type": "stream",
     "text": [
      "Enter a number345231\n",
      "132543 <class 'str'>\n"
     ]
    }
   ],
   "source": [
    "# write a program that can convert an integer to string\n",
    "\n",
    "number = int(input('Enter a number'))\n",
    "digits = '0123456789'\n",
    "result = ''\n",
    "while number != 0:\n",
    "    result += digits[number%10]\n",
    "    number = number//10\n",
    "print(result,type(result))"
   ]
  },
  {
   "cell_type": "code",
   "execution_count": null,
   "id": "bcb7d5b2",
   "metadata": {},
   "outputs": [],
   "source": []
  }
 ],
 "metadata": {
  "kernelspec": {
   "display_name": "Python 3 (ipykernel)",
   "language": "python",
   "name": "python3"
  },
  "language_info": {
   "codemirror_mode": {
    "name": "ipython",
    "version": 3
   },
   "file_extension": ".py",
   "mimetype": "text/x-python",
   "name": "python",
   "nbconvert_exporter": "python",
   "pygments_lexer": "ipython3",
   "version": "3.9.13"
  }
 },
 "nbformat": 4,
 "nbformat_minor": 5
}
