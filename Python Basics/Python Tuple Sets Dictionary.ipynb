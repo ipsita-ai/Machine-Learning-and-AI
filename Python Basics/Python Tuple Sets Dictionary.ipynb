{
 "cells": [
  {
   "cell_type": "markdown",
   "id": "473f46b5",
   "metadata": {},
   "source": [
    "## Tuples "
   ]
  },
  {
   "cell_type": "code",
   "execution_count": 1,
   "id": "051e56ee",
   "metadata": {},
   "outputs": [],
   "source": [
    "# Tuples are immutable"
   ]
  },
  {
   "cell_type": "code",
   "execution_count": 8,
   "id": "7660ac13",
   "metadata": {},
   "outputs": [
    {
     "name": "stdout",
     "output_type": "stream",
     "text": [
      "<class 'tuple'>\n",
      "<class 'tuple'>\n",
      "<class 'tuple'>\n"
     ]
    }
   ],
   "source": [
    "# Creating tuples\n",
    "# 1st way\n",
    "x = ()\n",
    "print(type(x))\n",
    "# 2nd way\n",
    "y = (5,)\n",
    "print(type(y))\n",
    "# 3rd way\n",
    "z = tuple([1,'ipsita','3'])\n",
    "print(type(z))\n"
   ]
  },
  {
   "cell_type": "code",
   "execution_count": 26,
   "id": "234d3c6a",
   "metadata": {},
   "outputs": [
    {
     "name": "stdout",
     "output_type": "stream",
     "text": [
      "(1, 2, 3, 4)\n",
      "(1, 'Ipsita', True, [1, 2])\n",
      "((1, 2), (3, 4))\n"
     ]
    }
   ],
   "source": [
    "# homogenous tuple\n",
    "t1 = (1,2,3,4)\n",
    "print(t1)\n",
    "# heterogenous tuple\n",
    "t2 = (1,'Ipsita',True,[1,2])\n",
    "print(t2)\n",
    "# 2d tuple\n",
    "t3 = ((1,2),(3,4))\n",
    "print(t3)"
   ]
  },
  {
   "cell_type": "code",
   "execution_count": 29,
   "id": "b19326c5",
   "metadata": {},
   "outputs": [
    {
     "name": "stdout",
     "output_type": "stream",
     "text": [
      "(1, 2, 3, 4)\n",
      "1\n",
      "4\n",
      "(1, 3)\n",
      "(1, 2)\n",
      "(4, 3, 2)\n"
     ]
    }
   ],
   "source": [
    "# Accessing Items from tuple\n",
    "# Indexing \n",
    "print(t1)\n",
    "print(t1[0])\n",
    "print(t1[-1])\n",
    "# Slicing\n",
    "print(t1[0::2])\n",
    "print(t1[-4:-2])\n",
    "print(t1[-1:-4:-1])\n"
   ]
  },
  {
   "cell_type": "code",
   "execution_count": 17,
   "id": "69f0a20e",
   "metadata": {},
   "outputs": [
    {
     "ename": "TypeError",
     "evalue": "'tuple' object does not support item assignment",
     "output_type": "error",
     "traceback": [
      "\u001b[1;31m---------------------------------------------------------------------------\u001b[0m",
      "\u001b[1;31mTypeError\u001b[0m                                 Traceback (most recent call last)",
      "\u001b[1;32m~\\AppData\\Local\\Temp\\ipykernel_18540\\3703877564.py\u001b[0m in \u001b[0;36m<module>\u001b[1;34m\u001b[0m\n\u001b[0;32m      1\u001b[0m \u001b[1;31m# Editing in tuples is not possible\u001b[0m\u001b[1;33m\u001b[0m\u001b[1;33m\u001b[0m\u001b[0m\n\u001b[1;32m----> 2\u001b[1;33m \u001b[0mt1\u001b[0m\u001b[1;33m[\u001b[0m\u001b[1;36m0\u001b[0m\u001b[1;33m]\u001b[0m \u001b[1;33m=\u001b[0m \u001b[1;36m10\u001b[0m\u001b[1;33m\u001b[0m\u001b[1;33m\u001b[0m\u001b[0m\n\u001b[0m",
      "\u001b[1;31mTypeError\u001b[0m: 'tuple' object does not support item assignment"
     ]
    }
   ],
   "source": [
    "# Editing in tuples is not possible \n",
    "t1[0] = 10"
   ]
  },
  {
   "cell_type": "code",
   "execution_count": 18,
   "id": "3aa4ad7e",
   "metadata": {},
   "outputs": [
    {
     "ename": "TypeError",
     "evalue": "'tuple' object does not support item assignment",
     "output_type": "error",
     "traceback": [
      "\u001b[1;31m---------------------------------------------------------------------------\u001b[0m",
      "\u001b[1;31mTypeError\u001b[0m                                 Traceback (most recent call last)",
      "\u001b[1;32m~\\AppData\\Local\\Temp\\ipykernel_18540\\2423938877.py\u001b[0m in \u001b[0;36m<module>\u001b[1;34m\u001b[0m\n\u001b[0;32m      1\u001b[0m \u001b[1;31m# Adding in tuples is not possible\u001b[0m\u001b[1;33m\u001b[0m\u001b[1;33m\u001b[0m\u001b[0m\n\u001b[1;32m----> 2\u001b[1;33m \u001b[0mt1\u001b[0m\u001b[1;33m[\u001b[0m\u001b[1;33m-\u001b[0m\u001b[1;36m1\u001b[0m\u001b[1;33m]\u001b[0m \u001b[1;33m=\u001b[0m \u001b[1;36m15\u001b[0m\u001b[1;33m\u001b[0m\u001b[1;33m\u001b[0m\u001b[0m\n\u001b[0m",
      "\u001b[1;31mTypeError\u001b[0m: 'tuple' object does not support item assignment"
     ]
    }
   ],
   "source": [
    "# Adding in tuples is not possible\n",
    "t1[-1] = 15"
   ]
  },
  {
   "cell_type": "code",
   "execution_count": 27,
   "id": "09eb7549",
   "metadata": {},
   "outputs": [
    {
     "name": "stdout",
     "output_type": "stream",
     "text": [
      "(1, 'Ipsita', True, [1, 2])\n"
     ]
    },
    {
     "ename": "TypeError",
     "evalue": "'tuple' object doesn't support item deletion",
     "output_type": "error",
     "traceback": [
      "\u001b[1;31m---------------------------------------------------------------------------\u001b[0m",
      "\u001b[1;31mTypeError\u001b[0m                                 Traceback (most recent call last)",
      "\u001b[1;32m~\\AppData\\Local\\Temp\\ipykernel_18540\\2095274201.py\u001b[0m in \u001b[0;36m<module>\u001b[1;34m\u001b[0m\n\u001b[0;32m      3\u001b[0m \u001b[1;32mdel\u001b[0m \u001b[0mt2\u001b[0m\u001b[1;33m\u001b[0m\u001b[1;33m\u001b[0m\u001b[0m\n\u001b[0;32m      4\u001b[0m \u001b[1;31m#print(t2)\u001b[0m\u001b[1;33m\u001b[0m\u001b[1;33m\u001b[0m\u001b[0m\n\u001b[1;32m----> 5\u001b[1;33m \u001b[1;32mdel\u001b[0m \u001b[0mt3\u001b[0m\u001b[1;33m[\u001b[0m\u001b[1;33m-\u001b[0m\u001b[1;36m1\u001b[0m\u001b[1;33m]\u001b[0m\u001b[1;33m\u001b[0m\u001b[1;33m\u001b[0m\u001b[0m\n\u001b[0m",
      "\u001b[1;31mTypeError\u001b[0m: 'tuple' object doesn't support item deletion"
     ]
    }
   ],
   "source": [
    "# Deleting items in tuple\n",
    "print(t2)\n",
    "del t2\n",
    "#print(t2)\n",
    "del t3[-1]"
   ]
  },
  {
   "cell_type": "code",
   "execution_count": 31,
   "id": "8b27b0e6",
   "metadata": {},
   "outputs": [
    {
     "name": "stdout",
     "output_type": "stream",
     "text": [
      "(1, 2, 3, 4, 5, 6)\n",
      "(1, 2, 3, 1, 2, 3)\n",
      "True\n",
      "False\n",
      "1\n",
      "2\n",
      "3\n"
     ]
    }
   ],
   "source": [
    "# Operations on Tuples\n",
    "# + and *\n",
    "t1 = (1,2,3)\n",
    "t2 = (4,5,6)\n",
    "print(t1+t2)\n",
    "print(t1*2)\n",
    "# Membership\n",
    "print(1 in t1)\n",
    "print(5 not in t1+t2)\n",
    "# iteration\n",
    "for i in t1:\n",
    "    print(i)"
   ]
  },
  {
   "cell_type": "code",
   "execution_count": 34,
   "id": "174b176b",
   "metadata": {},
   "outputs": [
    {
     "name": "stdout",
     "output_type": "stream",
     "text": [
      "6\n",
      "1\n",
      "6\n",
      "21\n",
      "[6, 5, 4, 3, 2, 1]\n"
     ]
    }
   ],
   "source": [
    "# functions on tuples\n",
    "t3 = t1+t2\n",
    "\n",
    "# len min max sum sorted\n",
    "print(len(t3))\n",
    "print(min(t3))\n",
    "print(max(t3))\n",
    "print(sum(t3))\n",
    "print(sorted(t3,reverse = True))"
   ]
  },
  {
   "cell_type": "code",
   "execution_count": 35,
   "id": "282cbf37",
   "metadata": {},
   "outputs": [
    {
     "data": {
      "text/plain": [
       "['a', 'i', 'i', 'p', 's', 't']"
      ]
     },
     "execution_count": 35,
     "metadata": {},
     "output_type": "execute_result"
    }
   ],
   "source": [
    "sorted('ipsita')"
   ]
  },
  {
   "cell_type": "code",
   "execution_count": 36,
   "id": "98588526",
   "metadata": {},
   "outputs": [
    {
     "data": {
      "text/plain": [
       "1"
      ]
     },
     "execution_count": 36,
     "metadata": {},
     "output_type": "execute_result"
    }
   ],
   "source": [
    "t3.count(5)"
   ]
  },
  {
   "cell_type": "code",
   "execution_count": 37,
   "id": "5b9773f8",
   "metadata": {},
   "outputs": [
    {
     "data": {
      "text/plain": [
       "0"
      ]
     },
     "execution_count": 37,
     "metadata": {},
     "output_type": "execute_result"
    }
   ],
   "source": [
    "t3.index(1)"
   ]
  },
  {
   "cell_type": "code",
   "execution_count": 39,
   "id": "c946d84e",
   "metadata": {},
   "outputs": [
    {
     "name": "stdout",
     "output_type": "stream",
     "text": [
      "[3, 5, 7, 9, 11]\n"
     ]
    }
   ],
   "source": [
    "l1 = [1,2,3,4,5]\n",
    "l2 = [2,3,4,5,6]\n",
    "m = []\n",
    "for (x,y) in zip(l1,l2):\n",
    "    m.append(x+y)\n",
    "    \n",
    "print(m)"
   ]
  },
  {
   "cell_type": "code",
   "execution_count": 40,
   "id": "c77ab308",
   "metadata": {},
   "outputs": [],
   "source": [
    "# tuples are faster than list because tuples are immutable"
   ]
  },
  {
   "cell_type": "code",
   "execution_count": 5,
   "id": "06f135d4",
   "metadata": {},
   "outputs": [
    {
     "name": "stdout",
     "output_type": "stream",
     "text": [
      "12.677999258041382\n",
      "12.390011548995972\n"
     ]
    }
   ],
   "source": [
    "import time\n",
    "l = list(range(100000000))\n",
    "t = tuple(range(100000000))\n",
    "start = time.time()\n",
    "for i in l:\n",
    "    i*5\n",
    "print(time.time()-start)\n",
    "start = time.time()\n",
    "for i in t:\n",
    "    i*5\n",
    "print(time.time()-start)"
   ]
  },
  {
   "cell_type": "code",
   "execution_count": 10,
   "id": "e18a3da3",
   "metadata": {},
   "outputs": [
    {
     "name": "stdout",
     "output_type": "stream",
     "text": [
      "list 720000056\n",
      "tuple 720000040\n"
     ]
    }
   ],
   "source": [
    "# tuple takes less memory than list\n",
    "import sys\n",
    "L = list(range(90000000))\n",
    "T = tuple(range(90000000))\n",
    "\n",
    "print('list',sys.getsizeof(L))\n",
    "print('tuple',sys.getsizeof(T))"
   ]
  },
  {
   "cell_type": "code",
   "execution_count": 11,
   "id": "77e0d145",
   "metadata": {},
   "outputs": [
    {
     "name": "stdout",
     "output_type": "stream",
     "text": [
      "[1, 2, 3, 5] [1, 2, 3, 5]\n"
     ]
    }
   ],
   "source": [
    "a = [1,2,3]\n",
    "b = a\n",
    "\n",
    "b.append(5)\n",
    "print(b,a)"
   ]
  },
  {
   "cell_type": "code",
   "execution_count": 13,
   "id": "bb9f3afe",
   "metadata": {},
   "outputs": [
    {
     "name": "stdout",
     "output_type": "stream",
     "text": [
      "(1, 2, 3, 4) (1, 2, 3, 4, 5)\n"
     ]
    }
   ],
   "source": [
    "a = (1,2,3,4)\n",
    "b = a + (5,)\n",
    "print(a,b)"
   ]
  },
  {
   "cell_type": "code",
   "execution_count": 1,
   "id": "b28816ee",
   "metadata": {},
   "outputs": [
    {
     "name": "stdout",
     "output_type": "stream",
     "text": [
      "1 2\n"
     ]
    }
   ],
   "source": [
    "# tuple unpacking\n",
    "a,b,c = (1,2,3)\n",
    "print(a,b)"
   ]
  },
  {
   "cell_type": "code",
   "execution_count": 2,
   "id": "21c26c17",
   "metadata": {},
   "outputs": [
    {
     "name": "stdout",
     "output_type": "stream",
     "text": [
      "2 1\n"
     ]
    }
   ],
   "source": [
    "# swapping values\n",
    "a = 1\n",
    "b = 2\n",
    "a,b = b,a\n",
    "print(a,b)"
   ]
  },
  {
   "cell_type": "code",
   "execution_count": 3,
   "id": "b32854aa",
   "metadata": {},
   "outputs": [
    {
     "name": "stdout",
     "output_type": "stream",
     "text": [
      "1 3 [6, 7, 8]\n"
     ]
    }
   ],
   "source": [
    "a,b,*others = (1,3,6,7,8)\n",
    "print(a,b,others)"
   ]
  },
  {
   "cell_type": "code",
   "execution_count": 7,
   "id": "a9cdfbe8",
   "metadata": {},
   "outputs": [
    {
     "data": {
      "text/plain": [
       "<generator object <genexpr> at 0x0000027F22797B30>"
      ]
     },
     "execution_count": 7,
     "metadata": {},
     "output_type": "execute_result"
    }
   ],
   "source": [
    "(i for i in range(10))"
   ]
  },
  {
   "cell_type": "code",
   "execution_count": 6,
   "id": "050818e6",
   "metadata": {},
   "outputs": [
    {
     "data": {
      "text/plain": [
       "[0, 1, 2, 3, 4, 5, 6, 7, 8, 9]"
      ]
     },
     "execution_count": 6,
     "metadata": {},
     "output_type": "execute_result"
    }
   ],
   "source": [
    "[i for i in range(0,10)]"
   ]
  },
  {
   "cell_type": "markdown",
   "id": "910d7f8a",
   "metadata": {},
   "source": [
    "### Sets\n"
   ]
  },
  {
   "cell_type": "code",
   "execution_count": 8,
   "id": "27d31d6f",
   "metadata": {},
   "outputs": [],
   "source": [
    "# Charecterstics\n",
    "## Unordered\n",
    "## Mutable\n",
    "## No Duplicates\n",
    "## Cannot contain mutable data type items"
   ]
  },
  {
   "cell_type": "code",
   "execution_count": 22,
   "id": "30dd4708",
   "metadata": {},
   "outputs": [
    {
     "name": "stdout",
     "output_type": "stream",
     "text": [
      "set()\n",
      "<class 'set'>\n",
      "{1}\n",
      "<class 'set'>\n",
      "{1, 2, 3, 23}\n",
      "{(2, 3), 1, 2, 3}\n"
     ]
    }
   ],
   "source": [
    "# Creating a set\n",
    "# empty set\n",
    "s = set()\n",
    "s1 = {1,}\n",
    "print(s)\n",
    "print(type(s))\n",
    "print(s1)\n",
    "print(type(s1))\n",
    "\n",
    "# 1d set and 2d\n",
    "s2 = {1,2,3}\n",
    "#s3 = {1,2,3,{3,4}}\n",
    "#print(s2,s3)\n",
    "\n",
    "# homo and hetero\n",
    "s4 = {1,2,3,1,23,True} # duplicates are not allowed\n",
    "print(s4)\n",
    "s5 = {1,2,3,(2,3)}\n",
    "print(s5) # Hashing decides which item goes where within set\n"
   ]
  },
  {
   "cell_type": "code",
   "execution_count": 24,
   "id": "0cb801b1",
   "metadata": {},
   "outputs": [
    {
     "data": {
      "text/plain": [
       "True"
      ]
     },
     "execution_count": 24,
     "metadata": {},
     "output_type": "execute_result"
    }
   ],
   "source": [
    "s1 = {1,2,3}\n",
    "s2 = {3,2,1}\n",
    "s1 == s2 # unordered set --> only comparing contents"
   ]
  },
  {
   "cell_type": "code",
   "execution_count": 25,
   "id": "78214e44",
   "metadata": {},
   "outputs": [
    {
     "ename": "TypeError",
     "evalue": "'set' object is not subscriptable",
     "output_type": "error",
     "traceback": [
      "\u001b[1;31m---------------------------------------------------------------------------\u001b[0m",
      "\u001b[1;31mTypeError\u001b[0m                                 Traceback (most recent call last)",
      "\u001b[1;32m~\\AppData\\Local\\Temp\\ipykernel_8212\\3946956141.py\u001b[0m in \u001b[0;36m<module>\u001b[1;34m\u001b[0m\n\u001b[0;32m      1\u001b[0m \u001b[1;31m# accessing items --> not possible\u001b[0m\u001b[1;33m\u001b[0m\u001b[1;33m\u001b[0m\u001b[0m\n\u001b[0;32m      2\u001b[0m \u001b[0ms1\u001b[0m \u001b[1;33m=\u001b[0m \u001b[1;33m{\u001b[0m\u001b[1;36m1\u001b[0m\u001b[1;33m,\u001b[0m\u001b[1;36m2\u001b[0m\u001b[1;33m,\u001b[0m\u001b[1;36m3\u001b[0m\u001b[1;33m,\u001b[0m\u001b[1;36m4\u001b[0m\u001b[1;33m,\u001b[0m\u001b[1;36m5\u001b[0m\u001b[1;33m}\u001b[0m\u001b[1;33m\u001b[0m\u001b[1;33m\u001b[0m\u001b[0m\n\u001b[1;32m----> 3\u001b[1;33m \u001b[0ms1\u001b[0m\u001b[1;33m[\u001b[0m\u001b[1;36m0\u001b[0m\u001b[1;33m]\u001b[0m\u001b[1;33m\u001b[0m\u001b[1;33m\u001b[0m\u001b[0m\n\u001b[0m",
      "\u001b[1;31mTypeError\u001b[0m: 'set' object is not subscriptable"
     ]
    }
   ],
   "source": [
    "# accessing items --> not possible\n",
    "s1 = {1,2,3,4,5}\n",
    "s1[0]"
   ]
  },
  {
   "cell_type": "code",
   "execution_count": 34,
   "id": "37d775c2",
   "metadata": {},
   "outputs": [
    {
     "name": "stdout",
     "output_type": "stream",
     "text": [
      "{1, 2, 3, 4, 5, 7, 8, 9, 10, 11, 12}\n",
      "{1, 2, 3, 4, 5, 7, 8, 9, 10, 11, 12} {8, 9, 7}\n",
      "{1, 2, 3, 4, 5, 7, 8, 9, 10, 11, 12}\n"
     ]
    }
   ],
   "source": [
    "# EDITING ITEMS\n",
    "# add\n",
    "s1.add(10)\n",
    "print(s1)\n",
    "s2 = {7,8,9}\n",
    "# update\n",
    "s1.update(s2)\n",
    "print(s1,s2)\n",
    "s1.update([11,12])\n",
    "print(s1)"
   ]
  },
  {
   "cell_type": "code",
   "execution_count": 46,
   "id": "7debf6c7",
   "metadata": {},
   "outputs": [
    {
     "name": "stdout",
     "output_type": "stream",
     "text": [
      "{1, 2, 3, 4, 5}\n",
      "{2, 3, 4, 5, 6}\n",
      "set()\n"
     ]
    }
   ],
   "source": [
    "# delte set items or sets\n",
    "\n",
    "s = {1,2,3,4,5}\n",
    "print(s)\n",
    "del s\n",
    "# print(s)\n",
    "\n",
    "#discard\n",
    "s = {1,2,3,4,5,6,7}\n",
    "s.discard(7)\n",
    "s.discard(59)\n",
    "\n",
    "# pop\n",
    "s.pop()\n",
    "print(s)\n",
    "\n",
    "# remove\n",
    "s.remove(6)\n",
    "#s.remove(50)\n",
    "\n",
    "# clear\n",
    "s.clear()\n",
    "print(s)"
   ]
  },
  {
   "cell_type": "code",
   "execution_count": 45,
   "id": "692365bc",
   "metadata": {},
   "outputs": [
    {
     "name": "stdout",
     "output_type": "stream",
     "text": [
      "set()\n"
     ]
    }
   ],
   "source": [
    "s.pop()\n",
    "print(s)"
   ]
  },
  {
   "cell_type": "code",
   "execution_count": 57,
   "id": "cdb3077c",
   "metadata": {},
   "outputs": [
    {
     "name": "stdout",
     "output_type": "stream",
     "text": [
      "{1, 2, 3, 4, 5, 6, 7, 8}\n",
      "{1, 2, 3, 4, 5, 6, 7, 8}\n",
      "{2, 3, 4, 5}\n",
      "{2, 3, 4, 5}\n",
      "{1, 6}\n",
      "{1, 6}\n",
      "{1, 6, 7, 8}\n",
      "{1, 6, 7, 8}\n",
      "True\n",
      "True\n",
      "1\n",
      "2\n",
      "3\n",
      "4\n",
      "5\n",
      "6\n"
     ]
    }
   ],
   "source": [
    "## Set Operation\n",
    "s1 = {1,2,3,4,5,6}\n",
    "s2 = {2,3,5,7,8,4}\n",
    "# Union\n",
    "print(s1.union(s2))\n",
    "print(s1 | s2)\n",
    "# intersection\n",
    "print(s1.intersection(s2))\n",
    "print(s1&s2)\n",
    "# difference\n",
    "print(s1.difference(s2))\n",
    "print(s1-s2)\n",
    "# Symmetric Difference\n",
    "print(s1.symmetric_difference(s2))\n",
    "print(s1^s2)\n",
    "# Membership test\n",
    "print(1 in s1)\n",
    "print(1 not in s2)\n",
    "# Iteration\n",
    "for i in s1:\n",
    "    print(i)"
   ]
  },
  {
   "cell_type": "code",
   "execution_count": 59,
   "id": "b16cd1d7",
   "metadata": {},
   "outputs": [
    {
     "name": "stdout",
     "output_type": "stream",
     "text": [
      "6\n",
      "21\n",
      "1\n",
      "6\n",
      "[6, 5, 4, 3, 2, 1]\n"
     ]
    }
   ],
   "source": [
    "# Set functions\n",
    "# generic functions\n",
    "print(len(s1))\n",
    "print(sum(s1))\n",
    "print(min(s1))\n",
    "print(max(s1))\n",
    "print(sorted(s1,reverse = True))"
   ]
  },
  {
   "cell_type": "code",
   "execution_count": 76,
   "id": "cd42ae4c",
   "metadata": {},
   "outputs": [
    {
     "name": "stdout",
     "output_type": "stream",
     "text": [
      "{1, 2, 3, 4, 5, 6} {2, 3, 4, 5, 7, 8}\n"
     ]
    },
    {
     "data": {
      "text/plain": [
       "{1, 2, 3, 4, 5, 6, 7, 8}"
      ]
     },
     "execution_count": 76,
     "metadata": {},
     "output_type": "execute_result"
    }
   ],
   "source": [
    "# Set functions\n",
    "s1 = {1, 2, 3, 4, 5, 6}\n",
    "s2 = {2, 3, 4, 5, 7, 8}\n",
    "print(s1,s2)\n",
    "s1.union(s2)"
   ]
  },
  {
   "cell_type": "code",
   "execution_count": 77,
   "id": "147ed5e0",
   "metadata": {},
   "outputs": [
    {
     "name": "stdout",
     "output_type": "stream",
     "text": [
      "{1, 2, 3, 4, 5, 6}\n"
     ]
    }
   ],
   "source": [
    "s2.update(s1)\n",
    "print(s1)\n",
    "s2 = {2, 3, 4, 5, 7, 8}"
   ]
  },
  {
   "cell_type": "code",
   "execution_count": 78,
   "id": "e288ed69",
   "metadata": {},
   "outputs": [
    {
     "name": "stdout",
     "output_type": "stream",
     "text": [
      "{1, 2, 3, 4, 5, 6} {2, 3, 4, 5, 7, 8}\n",
      "{2, 3, 4, 5} {2, 3, 4, 5, 7, 8}\n"
     ]
    }
   ],
   "source": [
    "# Intersection\n",
    "print(s1,s2)\n",
    "s1.intersection_update(s2)\n",
    "print(s1,s2)"
   ]
  },
  {
   "cell_type": "code",
   "execution_count": 79,
   "id": "b7778cea",
   "metadata": {},
   "outputs": [
    {
     "name": "stdout",
     "output_type": "stream",
     "text": [
      "{1, 6}\n"
     ]
    }
   ],
   "source": [
    "# difference \n",
    "s1 = {1, 2, 3, 4, 5, 6}\n",
    "s2 = {2, 3, 4, 5, 7, 8}\n",
    "s1.difference_update(s2)\n",
    "print(s1)"
   ]
  },
  {
   "cell_type": "code",
   "execution_count": 80,
   "id": "38a55f33",
   "metadata": {},
   "outputs": [
    {
     "name": "stdout",
     "output_type": "stream",
     "text": [
      "{1, 6, 7, 8}\n"
     ]
    }
   ],
   "source": [
    "# symetric difference \n",
    "s1 = {1, 2, 3, 4, 5, 6}\n",
    "s2 = {2, 3, 4, 5, 7, 8}\n",
    "s1.symmetric_difference_update(s2)\n",
    "print(s1)"
   ]
  },
  {
   "cell_type": "code",
   "execution_count": 83,
   "id": "7f8d18bc",
   "metadata": {},
   "outputs": [
    {
     "data": {
      "text/plain": [
       "True"
      ]
     },
     "execution_count": 83,
     "metadata": {},
     "output_type": "execute_result"
    }
   ],
   "source": [
    "# isdisjoint\n",
    "s1 = {1, 2, 3}\n",
    "s2 = {3,4, 5, 7, 8}\n",
    "s3 = {4,5,7,8}\n",
    "s1.isdisjoint(s2)\n",
    "s1.isdisjoint(s3)\n",
    "\n"
   ]
  },
  {
   "cell_type": "code",
   "execution_count": 84,
   "id": "de25064a",
   "metadata": {},
   "outputs": [
    {
     "data": {
      "text/plain": [
       "True"
      ]
     },
     "execution_count": 84,
     "metadata": {},
     "output_type": "execute_result"
    }
   ],
   "source": [
    "s3.issubset(s2)"
   ]
  },
  {
   "cell_type": "code",
   "execution_count": 85,
   "id": "b35ae99e",
   "metadata": {},
   "outputs": [
    {
     "data": {
      "text/plain": [
       "True"
      ]
     },
     "execution_count": 85,
     "metadata": {},
     "output_type": "execute_result"
    }
   ],
   "source": [
    "s2.issuperset(s3)"
   ]
  },
  {
   "cell_type": "code",
   "execution_count": 93,
   "id": "6a25c715",
   "metadata": {},
   "outputs": [
    {
     "name": "stdout",
     "output_type": "stream",
     "text": [
      "{1, 2, 3} {1, 2, 3}\n",
      "{1, 2, 3} {1, 2, 3, 5}\n"
     ]
    }
   ],
   "source": [
    "# copy\n",
    "s1 = {1, 2, 3}\n",
    "s2 = {3,4, 5, 7, 8}\n",
    "s3 = {4,5,7,8}\n",
    "\n",
    "s2 = s1.copy()\n",
    "print(s1,s2)\n",
    "\n",
    "s2.add(5)\n",
    "\n",
    "print(s1,s2)"
   ]
  },
  {
   "cell_type": "code",
   "execution_count": 94,
   "id": "9e4ff4d6",
   "metadata": {},
   "outputs": [],
   "source": [
    "# Frozen set is immutable python set "
   ]
  },
  {
   "cell_type": "code",
   "execution_count": 95,
   "id": "8736f847",
   "metadata": {},
   "outputs": [
    {
     "data": {
      "text/plain": [
       "frozenset({1, 2, 3, 5, 6})"
      ]
     },
     "execution_count": 95,
     "metadata": {},
     "output_type": "execute_result"
    }
   ],
   "source": [
    "# Create frozen set\n",
    "fs1 = frozenset([1,2,3])\n",
    "fs2 = frozenset([3,5,6])\n",
    "\n",
    "fs1 | fs2"
   ]
  },
  {
   "cell_type": "code",
   "execution_count": 96,
   "id": "3478908e",
   "metadata": {},
   "outputs": [],
   "source": [
    "# What works and what does not work\n",
    "# works --> all read functions\n",
    "# does not work -- > write functions"
   ]
  },
  {
   "cell_type": "code",
   "execution_count": 98,
   "id": "911b21c4",
   "metadata": {},
   "outputs": [
    {
     "name": "stdout",
     "output_type": "stream",
     "text": [
      "{frozenset({1, 2, 3}), 1, 2, 3}\n"
     ]
    }
   ],
   "source": [
    "# when to use --> read only operations in sets\n",
    "# 2d set\n",
    "fs1 = frozenset([1,2,3])\n",
    "s1 = {1,2,3,fs1}\n",
    "print(s1)"
   ]
  },
  {
   "cell_type": "code",
   "execution_count": 100,
   "id": "353c2d2d",
   "metadata": {},
   "outputs": [
    {
     "data": {
      "text/plain": [
       "{6, 7, 8, 9, 10}"
      ]
     },
     "execution_count": 100,
     "metadata": {},
     "output_type": "execute_result"
    }
   ],
   "source": [
    "# set comprehension\n",
    "{i for i in range(1,11) if i > 5}"
   ]
  },
  {
   "cell_type": "markdown",
   "id": "c8855f1e",
   "metadata": {},
   "source": [
    "### Dictionary "
   ]
  },
  {
   "cell_type": "code",
   "execution_count": 101,
   "id": "8203df06",
   "metadata": {},
   "outputs": [],
   "source": [
    "# Charecterstics\n",
    "# Mutable\n",
    "# Keys cannot be mutable\n",
    "# Keys cannot be duplicate"
   ]
  },
  {
   "cell_type": "code",
   "execution_count": 126,
   "id": "d1d7bc08",
   "metadata": {
    "scrolled": true
   },
   "outputs": [
    {
     "name": "stdout",
     "output_type": "stream",
     "text": [
      "{}\n",
      "{'name': 'ipsita', 'age': 34, 'gender': 'female'}\n",
      "{(1, 2, 3): 1, 'hello': 'world'}\n",
      "{'name': 'Ipsita', 'college': 'BIT', 'subjects': {'dsa': 50, 'maths': 75, 'english': 90}}\n",
      "{'name': 'ipsita', 'age': 35, 'gender': 'female'}\n"
     ]
    }
   ],
   "source": [
    "# Creating Dictionary\n",
    "# empty dictionary\n",
    "d = {}\n",
    "print(d)\n",
    "# 1d dictionary\n",
    "d1 = {'name':'ipsita','age':34,'gender':'female'}\n",
    "print(d1)\n",
    "# with mixed keys\n",
    "d2 = {(1,2,3):1,'hello':'world'}\n",
    "print(d2)\n",
    "# 2d dictionary\n",
    "s = {\n",
    "    'name' : 'Ipsita',\n",
    "    'college' : 'BIT',\n",
    "    'subjects' : {\n",
    "        'dsa':50,\n",
    "        'maths':75,\n",
    "        'english':90\n",
    "    }\n",
    "}\n",
    "print(s)\n",
    "# Using sequensce and dict function\n",
    "d4 = dict((['name','ipsita'],['age',35],['gender','female']))\n",
    "print(d4)"
   ]
  },
  {
   "cell_type": "code",
   "execution_count": 112,
   "id": "7d6b7464",
   "metadata": {},
   "outputs": [
    {
     "data": {
      "text/plain": [
       "{'name': 'abhinav'}"
      ]
     },
     "execution_count": 112,
     "metadata": {},
     "output_type": "execute_result"
    }
   ],
   "source": [
    "# duplicate keys are not possible\n",
    "dc = {'name':'ipsita','name':'abhinav'}\n",
    "dc"
   ]
  },
  {
   "cell_type": "code",
   "execution_count": 113,
   "id": "3d4103c5",
   "metadata": {},
   "outputs": [
    {
     "ename": "TypeError",
     "evalue": "unhashable type: 'list'",
     "output_type": "error",
     "traceback": [
      "\u001b[1;31m---------------------------------------------------------------------------\u001b[0m",
      "\u001b[1;31mTypeError\u001b[0m                                 Traceback (most recent call last)",
      "\u001b[1;32m~\\AppData\\Local\\Temp\\ipykernel_8212\\1291233237.py\u001b[0m in \u001b[0;36m<module>\u001b[1;34m\u001b[0m\n\u001b[0;32m      1\u001b[0m \u001b[1;31m# mutable items as keys\u001b[0m\u001b[1;33m\u001b[0m\u001b[1;33m\u001b[0m\u001b[0m\n\u001b[1;32m----> 2\u001b[1;33m \u001b[0mdc1\u001b[0m \u001b[1;33m=\u001b[0m \u001b[1;33m{\u001b[0m\u001b[1;33m[\u001b[0m\u001b[1;36m1\u001b[0m\u001b[1;33m,\u001b[0m\u001b[1;36m2\u001b[0m\u001b[1;33m,\u001b[0m\u001b[1;36m3\u001b[0m\u001b[1;33m]\u001b[0m\u001b[1;33m:\u001b[0m\u001b[1;36m1\u001b[0m\u001b[1;33m}\u001b[0m\u001b[1;33m\u001b[0m\u001b[1;33m\u001b[0m\u001b[0m\n\u001b[0m\u001b[0;32m      3\u001b[0m \u001b[0mdc1\u001b[0m\u001b[1;33m\u001b[0m\u001b[1;33m\u001b[0m\u001b[0m\n",
      "\u001b[1;31mTypeError\u001b[0m: unhashable type: 'list'"
     ]
    }
   ],
   "source": [
    "# mutable items as keys\n",
    "dc1 = {[1,2,3]:1}\n",
    "dc1"
   ]
  },
  {
   "cell_type": "code",
   "execution_count": 115,
   "id": "8b6d6027",
   "metadata": {},
   "outputs": [
    {
     "ename": "TypeError",
     "evalue": "unhashable type: 'set'",
     "output_type": "error",
     "traceback": [
      "\u001b[1;31m---------------------------------------------------------------------------\u001b[0m",
      "\u001b[1;31mTypeError\u001b[0m                                 Traceback (most recent call last)",
      "\u001b[1;32m~\\AppData\\Local\\Temp\\ipykernel_8212\\1864485482.py\u001b[0m in \u001b[0;36m<module>\u001b[1;34m\u001b[0m\n\u001b[0;32m      1\u001b[0m \u001b[1;31m# mutable items as keys\u001b[0m\u001b[1;33m\u001b[0m\u001b[1;33m\u001b[0m\u001b[0m\n\u001b[1;32m----> 2\u001b[1;33m \u001b[0mdc2\u001b[0m \u001b[1;33m=\u001b[0m \u001b[1;33m{\u001b[0m\u001b[1;33m{\u001b[0m\u001b[1;36m1\u001b[0m\u001b[1;33m,\u001b[0m\u001b[1;36m2\u001b[0m\u001b[1;33m,\u001b[0m\u001b[1;36m3\u001b[0m\u001b[1;33m}\u001b[0m\u001b[1;33m:\u001b[0m\u001b[1;36m1\u001b[0m\u001b[1;33m}\u001b[0m\u001b[1;33m\u001b[0m\u001b[1;33m\u001b[0m\u001b[0m\n\u001b[0m\u001b[0;32m      3\u001b[0m \u001b[0mdc2\u001b[0m\u001b[1;33m\u001b[0m\u001b[1;33m\u001b[0m\u001b[0m\n",
      "\u001b[1;31mTypeError\u001b[0m: unhashable type: 'set'"
     ]
    }
   ],
   "source": [
    "# mutable items as keys\n",
    "dc2 = {{1,2,3}:1}\n",
    "dc2"
   ]
  },
  {
   "cell_type": "code",
   "execution_count": 117,
   "id": "b5e4e735",
   "metadata": {},
   "outputs": [
    {
     "data": {
      "text/plain": [
       "{(1, 2, 3): 1}"
      ]
     },
     "execution_count": 117,
     "metadata": {},
     "output_type": "execute_result"
    }
   ],
   "source": [
    "# mutable items as keys\n",
    "dc3 = {(1,2,3):1}\n",
    "dc3"
   ]
  },
  {
   "cell_type": "code",
   "execution_count": 121,
   "id": "6c3e5e83",
   "metadata": {},
   "outputs": [
    {
     "name": "stdout",
     "output_type": "stream",
     "text": [
      "ipsita\n",
      "35\n",
      "ipsita\n"
     ]
    }
   ],
   "source": [
    "# Accessing items\n",
    "my_dict = {'name':'ipsita','age':35}\n",
    "print(my_dict['name'])\n",
    "print(my_dict['age'])\n",
    "print(my_dict.get('name'))"
   ]
  },
  {
   "cell_type": "code",
   "execution_count": 122,
   "id": "ceb40d6c",
   "metadata": {},
   "outputs": [
    {
     "data": {
      "text/plain": [
       "{'name': 'ipsita', 'age': 35, 'gender': 'female', 'weight': 75}"
      ]
     },
     "execution_count": 122,
     "metadata": {},
     "output_type": "execute_result"
    }
   ],
   "source": [
    "# Adding Key Value pair\n",
    "my_dict['gender'] = 'female'\n",
    "my_dict['weight'] = 75\n",
    "my_dict"
   ]
  },
  {
   "cell_type": "code",
   "execution_count": 133,
   "id": "716ba4d2",
   "metadata": {},
   "outputs": [
    {
     "name": "stdout",
     "output_type": "stream",
     "text": [
      "{'name': 'ipsita', 'age': 35, 'gender': 'female'}\n",
      "{'name': 'ipsita', 'age': 35}\n",
      "{'name': 'ipsita'}\n",
      "{}\n",
      "{'name': 'ipsita', 'age': 35, 'gender': 'female'}\n",
      "{}\n"
     ]
    }
   ],
   "source": [
    "# Remove key value pair\n",
    "d4 = dict((['name','ipsita'],['age',35],['gender','female']))\n",
    "print(d4)\n",
    "# pop\n",
    "d4.pop('gender')\n",
    "print(d4)\n",
    "# popitem\n",
    "d4.popitem()\n",
    "print(d4)\n",
    "# del \n",
    "del d4['name']\n",
    "print(d4)\n",
    "d4 = dict((['name','ipsita'],['age',35],['gender','female']))\n",
    "print(d4)\n",
    "#clear\n",
    "d4.clear()\n",
    "print(d4)"
   ]
  },
  {
   "cell_type": "code",
   "execution_count": 136,
   "id": "96444fb7",
   "metadata": {},
   "outputs": [
    {
     "name": "stdout",
     "output_type": "stream",
     "text": [
      "{'name': 'ipsita', 'age': 35, 'gender': 'female'}\n",
      "{'name': 'ipsita panda', 'age': 35, 'gender': 'female'}\n"
     ]
    }
   ],
   "source": [
    "# editing key value pair \n",
    "d4 = dict((['name','ipsita'],['age',35],['gender','female']))\n",
    "print(d4)\n",
    "d4['name'] = 'ipsita panda'\n",
    "print(d4)"
   ]
  },
  {
   "cell_type": "code",
   "execution_count": 135,
   "id": "29900e01",
   "metadata": {},
   "outputs": [],
   "source": [
    "# Dictionary operation"
   ]
  },
  {
   "cell_type": "code",
   "execution_count": 138,
   "id": "c63b1adc",
   "metadata": {},
   "outputs": [
    {
     "data": {
      "text/plain": [
       "True"
      ]
     },
     "execution_count": 138,
     "metadata": {},
     "output_type": "execute_result"
    }
   ],
   "source": [
    "# membership operation --> only works with keys\n",
    "'name' in d4"
   ]
  },
  {
   "cell_type": "code",
   "execution_count": 139,
   "id": "5ffae772",
   "metadata": {},
   "outputs": [
    {
     "name": "stdout",
     "output_type": "stream",
     "text": [
      "name ipsita panda\n",
      "age 35\n",
      "gender female\n"
     ]
    }
   ],
   "source": [
    "# iteration\n",
    "for i in d4:\n",
    "    print(i,d4[i])"
   ]
  },
  {
   "cell_type": "code",
   "execution_count": 141,
   "id": "6a7a786d",
   "metadata": {},
   "outputs": [
    {
     "name": "stdout",
     "output_type": "stream",
     "text": [
      "3\n",
      "['age', 'gender', 'name']\n"
     ]
    }
   ],
   "source": [
    "# dictionary function\n",
    "print(len(d4)) \n",
    "\n",
    "print(sorted(d4)) # --> keys"
   ]
  },
  {
   "cell_type": "code",
   "execution_count": 144,
   "id": "e2f8d7b2",
   "metadata": {},
   "outputs": [
    {
     "name": "stdout",
     "output_type": "stream",
     "text": [
      "dict_items([('name', 'ipsita panda'), ('age', 35), ('gender', 'female')])\n",
      "dict_keys(['name', 'age', 'gender'])\n",
      "dict_values(['ipsita panda', 35, 'female'])\n"
     ]
    }
   ],
   "source": [
    "# items/keys/values\n",
    "print(d4.items())\n",
    "print(d4.keys())\n",
    "print(d4.values())"
   ]
  },
  {
   "cell_type": "code",
   "execution_count": 146,
   "id": "25303a81",
   "metadata": {},
   "outputs": [
    {
     "name": "stdout",
     "output_type": "stream",
     "text": [
      "{1: 2, 3: 8, 4: 5, 5: 9}\n"
     ]
    }
   ],
   "source": [
    "# update\n",
    "d1 = {1:2,3:4,4:5,5:6}\n",
    "d2 = {3:8,5:9}\n",
    "d1.update(d2)\n",
    "print(d1)"
   ]
  },
  {
   "cell_type": "code",
   "execution_count": 147,
   "id": "6b18e183",
   "metadata": {},
   "outputs": [
    {
     "data": {
      "text/plain": [
       "{1: 1, 2: 4, 3: 9, 4: 16, 5: 25, 6: 36, 7: 49, 8: 64, 9: 81, 10: 100}"
      ]
     },
     "execution_count": 147,
     "metadata": {},
     "output_type": "execute_result"
    }
   ],
   "source": [
    "# {key: val for vars in iterable}\n",
    "\n",
    "# print 1st 10 numbers and its square\n",
    "{i : i**2 for i in range(1,11)}"
   ]
  },
  {
   "cell_type": "code",
   "execution_count": 149,
   "id": "df70fb7c",
   "metadata": {},
   "outputs": [
    {
     "data": {
      "text/plain": [
       "{'delhi': 620.0, 'mumbai': 1240.0, 'bangalore': 1860.0}"
      ]
     },
     "execution_count": 149,
     "metadata": {},
     "output_type": "execute_result"
    }
   ],
   "source": [
    "# using existing dict\n",
    "distance = {'delhi':1000,'mumbai':2000,'bangalore':3000}\n",
    "\n",
    "{key : value*0.62 for (key,value) in distance.items()}"
   ]
  },
  {
   "cell_type": "code",
   "execution_count": 150,
   "id": "24a2554a",
   "metadata": {},
   "outputs": [
    {
     "data": {
      "text/plain": [
       "{'Sunday': 30,\n",
       " 'Monday': 31,\n",
       " 'Tuesday': 29,\n",
       " 'Wednesday': 32,\n",
       " 'Thursday': 31,\n",
       " 'Friday': 30,\n",
       " 'Saturday': 28}"
      ]
     },
     "execution_count": 150,
     "metadata": {},
     "output_type": "execute_result"
    }
   ],
   "source": [
    "d1 = ['Sunday','Monday','Tuesday','Wednesday','Thursday','Friday','Saturday']\n",
    "d2 = [30,31,29,32,31,30,28]\n",
    "{i:j for (i,j) in list(zip(d1,d2))}"
   ]
  },
  {
   "cell_type": "code",
   "execution_count": 1,
   "id": "78a84cb1",
   "metadata": {},
   "outputs": [
    {
     "data": {
      "text/plain": [
       "{'phone': 10, 'charger': 32}"
      ]
     },
     "execution_count": 1,
     "metadata": {},
     "output_type": "execute_result"
    }
   ],
   "source": [
    "# using if condition\n",
    "products = {'phone':10,'laptop':0,'charger':32,'tablet':0}\n",
    "{key:value for (key,value) in products.items() if value > 0}"
   ]
  },
  {
   "cell_type": "code",
   "execution_count": 3,
   "id": "2e38ff18",
   "metadata": {},
   "outputs": [
    {
     "data": {
      "text/plain": [
       "{2: {1: 2, 2: 4, 3: 6, 4: 8, 5: 10},\n",
       " 3: {1: 3, 2: 6, 3: 9, 4: 12, 5: 15},\n",
       " 4: {1: 4, 2: 8, 3: 12, 4: 16, 5: 20}}"
      ]
     },
     "execution_count": 3,
     "metadata": {},
     "output_type": "execute_result"
    }
   ],
   "source": [
    "{i:{j:i*j for j in range(1,6)} for i in range(2,5)}"
   ]
  },
  {
   "cell_type": "code",
   "execution_count": null,
   "id": "6ffd1568",
   "metadata": {},
   "outputs": [],
   "source": []
  }
 ],
 "metadata": {
  "kernelspec": {
   "display_name": "Python 3 (ipykernel)",
   "language": "python",
   "name": "python3"
  },
  "language_info": {
   "codemirror_mode": {
    "name": "ipython",
    "version": 3
   },
   "file_extension": ".py",
   "mimetype": "text/x-python",
   "name": "python",
   "nbconvert_exporter": "python",
   "pygments_lexer": "ipython3",
   "version": "3.9.13"
  }
 },
 "nbformat": 4,
 "nbformat_minor": 5
}
