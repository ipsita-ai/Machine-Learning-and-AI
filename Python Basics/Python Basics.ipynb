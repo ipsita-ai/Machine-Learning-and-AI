{
 "cells": [
  {
   "cell_type": "markdown",
   "id": "91e89501",
   "metadata": {},
   "source": [
    "#### Python Basics\n",
    "##### About Python "
   ]
  },
  {
   "cell_type": "markdown",
   "id": "b39ef1f8",
   "metadata": {},
   "source": [
    "### Why Python is so popular today ??\n",
    "- Design Philosophy : Python is the easiest language to learn.Python codes are very well indented and readable.In essence python is beautiful.\n",
    "- Batteries Included : In built data types and functions/methods associated with the data types make the life of programmer very easy.\n",
    "- General Purpose : Supports many different types of programming paradigms like : object oriented , functional or procedural programminmg and it can be used for building websites,desktop application as well as in data science.\n",
    "- Libraries/Community : Very strong communities and they have come up with lot of libraries which has made life of programmer easy .\n",
    "\n",
    "### Why Python is so popular in Data science ??\n",
    "- Easy to learn : People from many different domain work in data science\n",
    "- Proximity with Maths : Numpy , Scipy libraries made for sceintific computing\n",
    "- Community \n",
    "\n",
    "##### One of the con is python could be little slow and to manage this python uses some data types built in other languages like c .For example : Nd array data type in numpy is very very fast "
   ]
  },
  {
   "cell_type": "markdown",
   "id": "a0a60e24",
   "metadata": {},
   "source": [
    "####  Python Output \n"
   ]
  },
  {
   "cell_type": "code",
   "execution_count": 16,
   "id": "95b59bbc",
   "metadata": {},
   "outputs": [
    {
     "name": "stdout",
     "output_type": "stream",
     "text": [
      "Hello World,this is my first code statement\n"
     ]
    }
   ],
   "source": [
    "# Using in-built function print \n",
    "# Python is a case sensistive language (print and Print are different ,Print will not work)\n",
    "print('Hello World','this is my first code statement',sep=',')"
   ]
  },
  {
   "cell_type": "code",
   "execution_count": 6,
   "id": "6586ea2b",
   "metadata": {},
   "outputs": [
    {
     "name": "stdout",
     "output_type": "stream",
     "text": [
      "Shahrukh Khan\n"
     ]
    }
   ],
   "source": [
    "print('Shahrukh Khan')"
   ]
  },
  {
   "cell_type": "code",
   "execution_count": 7,
   "id": "5269098e",
   "metadata": {},
   "outputs": [
    {
     "name": "stdout",
     "output_type": "stream",
     "text": [
      "200\n"
     ]
    }
   ],
   "source": [
    "print(100+100)"
   ]
  },
  {
   "cell_type": "code",
   "execution_count": 8,
   "id": "926d61ff",
   "metadata": {},
   "outputs": [
    {
     "name": "stdout",
     "output_type": "stream",
     "text": [
      "True\n"
     ]
    }
   ],
   "source": [
    "print(True)"
   ]
  },
  {
   "cell_type": "code",
   "execution_count": 9,
   "id": "224b5606",
   "metadata": {},
   "outputs": [
    {
     "name": "stdout",
     "output_type": "stream",
     "text": [
      "1.34\n"
     ]
    }
   ],
   "source": [
    "print(1.34)"
   ]
  },
  {
   "cell_type": "code",
   "execution_count": 10,
   "id": "55e935c1",
   "metadata": {},
   "outputs": [
    {
     "ename": "SyntaxError",
     "evalue": "invalid syntax (2912988668.py, line 3)",
     "output_type": "error",
     "traceback": [
      "\u001b[1;36m  File \u001b[1;32m\"C:\\Users\\ipsit\\AppData\\Local\\Temp\\ipykernel_18024\\2912988668.py\"\u001b[1;36m, line \u001b[1;32m3\u001b[0m\n\u001b[1;33m    print(Salman Khan)\u001b[0m\n\u001b[1;37m                 ^\u001b[0m\n\u001b[1;31mSyntaxError\u001b[0m\u001b[1;31m:\u001b[0m invalid syntax\n"
     ]
    }
   ],
   "source": [
    "# Incase incorrect value is given inside print statement\n",
    "# Syntax Error\n",
    "print(Salman Khan)"
   ]
  },
  {
   "cell_type": "code",
   "execution_count": 11,
   "id": "ab815587",
   "metadata": {},
   "outputs": [
    {
     "name": "stdout",
     "output_type": "stream",
     "text": [
      "Hello 1 4.5 True\n"
     ]
    }
   ],
   "source": [
    "# printing data with different data type\n",
    "print('Hello',1,4.5,True)"
   ]
  },
  {
   "cell_type": "code",
   "execution_count": 12,
   "id": "91fd4019",
   "metadata": {},
   "outputs": [
    {
     "name": "stdout",
     "output_type": "stream",
     "text": [
      "Hello/1/4.5/True\n"
     ]
    }
   ],
   "source": [
    "# Separator argument in print statement \n",
    "print('Hello',1,4.5,True,sep = '/')"
   ]
  },
  {
   "cell_type": "code",
   "execution_count": 13,
   "id": "e62cd506",
   "metadata": {},
   "outputs": [
    {
     "name": "stdout",
     "output_type": "stream",
     "text": [
      "hello\n",
      "world\n"
     ]
    }
   ],
   "source": [
    "print('hello')\n",
    "print('world')"
   ]
  },
  {
   "cell_type": "code",
   "execution_count": 15,
   "id": "cec28bfc",
   "metadata": {},
   "outputs": [
    {
     "name": "stdout",
     "output_type": "stream",
     "text": [
      "hello-world\n"
     ]
    }
   ],
   "source": [
    "# End argument in print statement\n",
    "print('hello',end = '-')\n",
    "print('world')"
   ]
  },
  {
   "cell_type": "markdown",
   "id": "b8e0bcc3",
   "metadata": {},
   "source": [
    "#### Data Types"
   ]
  },
  {
   "cell_type": "code",
   "execution_count": 19,
   "id": "12268842",
   "metadata": {},
   "outputs": [
    {
     "name": "stdout",
     "output_type": "stream",
     "text": [
      "8\n",
      "1e+308\n",
      "inf\n"
     ]
    }
   ],
   "source": [
    "# Integers\n",
    "print(8)\n",
    "# 1e308 = 1*10^308\n",
    "print(1e308)\n",
    "print(1e309)"
   ]
  },
  {
   "cell_type": "code",
   "execution_count": 22,
   "id": "57d9e898",
   "metadata": {},
   "outputs": [
    {
     "name": "stdout",
     "output_type": "stream",
     "text": [
      "8.55\n",
      "1.7e+308\n",
      "inf\n"
     ]
    }
   ],
   "source": [
    "# Decimal / Float \n",
    "print(8.55)\n",
    "# 1.7e308 = 1.7*10^308\n",
    "print(1.7e308)\n",
    "print(1.7e309)"
   ]
  },
  {
   "cell_type": "code",
   "execution_count": 25,
   "id": "d35b4428",
   "metadata": {},
   "outputs": [
    {
     "name": "stdout",
     "output_type": "stream",
     "text": [
      "True\n",
      "False\n"
     ]
    }
   ],
   "source": [
    "# Boolean \n",
    "print(True)\n",
    "print(False)"
   ]
  },
  {
   "cell_type": "code",
   "execution_count": 26,
   "id": "558b66a1",
   "metadata": {},
   "outputs": [
    {
     "name": "stdout",
     "output_type": "stream",
     "text": [
      "Hello World\n"
     ]
    }
   ],
   "source": [
    "# Text / String\n",
    "print('Hello World')"
   ]
  },
  {
   "cell_type": "code",
   "execution_count": 34,
   "id": "bf3fde2b",
   "metadata": {},
   "outputs": [
    {
     "name": "stdout",
     "output_type": "stream",
     "text": [
      "(5+6j)\n",
      "(1+infj)\n"
     ]
    }
   ],
   "source": [
    "# Complex Number\n",
    "print(5+6j)\n",
    "print(1+1e309j)"
   ]
  },
  {
   "cell_type": "code",
   "execution_count": 28,
   "id": "e4b05096",
   "metadata": {},
   "outputs": [
    {
     "name": "stdout",
     "output_type": "stream",
     "text": [
      "[1, 2, 3, 'Hello', 'World', True]\n"
     ]
    }
   ],
   "source": [
    "# List \n",
    "print([1,2,3,'Hello','World',True])"
   ]
  },
  {
   "cell_type": "code",
   "execution_count": 30,
   "id": "9bf343ff",
   "metadata": {},
   "outputs": [
    {
     "name": "stdout",
     "output_type": "stream",
     "text": [
      "(1, 2, 3, 4, 5)\n"
     ]
    }
   ],
   "source": [
    "# Tuple\n",
    "print((1,2,3,4,5))"
   ]
  },
  {
   "cell_type": "code",
   "execution_count": 31,
   "id": "a5c1bc96",
   "metadata": {},
   "outputs": [
    {
     "name": "stdout",
     "output_type": "stream",
     "text": [
      "{1, 2, 3, 4}\n"
     ]
    }
   ],
   "source": [
    "# Sets\n",
    "print({1,2,3,4})"
   ]
  },
  {
   "cell_type": "code",
   "execution_count": 32,
   "id": "17e1fb50",
   "metadata": {},
   "outputs": [
    {
     "name": "stdout",
     "output_type": "stream",
     "text": [
      "{'name': 'Ipsita', 'gender': 'Female', 'age': 33}\n"
     ]
    }
   ],
   "source": [
    "# Dictionary\n",
    "print({'name': 'Ipsita','gender':'Female','age':33})"
   ]
  },
  {
   "cell_type": "code",
   "execution_count": 35,
   "id": "25de4264",
   "metadata": {},
   "outputs": [],
   "source": [
    "# Python is interpreted language ... each line is converted to machine code and output is generated"
   ]
  },
  {
   "cell_type": "code",
   "execution_count": 36,
   "id": "34d61c17",
   "metadata": {},
   "outputs": [
    {
     "name": "stdout",
     "output_type": "stream",
     "text": [
      "<class 'int'>\n",
      "<class 'float'>\n",
      "<class 'complex'>\n",
      "<class 'str'>\n",
      "<class 'list'>\n"
     ]
    }
   ],
   "source": [
    "# Type Function \n",
    "print(type(3))\n",
    "print(type(3.4))\n",
    "print(type(1+2j))\n",
    "print(type('hello'))\n",
    "print(type([1,2,3,4]))"
   ]
  },
  {
   "cell_type": "markdown",
   "id": "edb44c69",
   "metadata": {},
   "source": [
    "### Variables (Basically containers to store values )\n"
   ]
  },
  {
   "cell_type": "code",
   "execution_count": 37,
   "id": "3e083482",
   "metadata": {},
   "outputs": [],
   "source": [
    "# Static Vs Dynamic Typing \n",
    "# Static Vs Dynamic Binding\n",
    "# Stylish Declaration Techniques\n"
   ]
  },
  {
   "cell_type": "code",
   "execution_count": 39,
   "id": "453d818e",
   "metadata": {},
   "outputs": [
    {
     "name": "stdout",
     "output_type": "stream",
     "text": [
      "Ipsita Panda\n",
      "11\n"
     ]
    }
   ],
   "source": [
    "# static vs dynamic typing \n",
    "# str name = 'Ipsita'\n",
    "name = 'Ipsita Panda'\n",
    "print(name)\n",
    "\n",
    "a = 5\n",
    "b = 6 \n",
    "print(a + b)"
   ]
  },
  {
   "cell_type": "code",
   "execution_count": 40,
   "id": "a9d34575",
   "metadata": {},
   "outputs": [],
   "source": [
    "# Dynamic Typing\n",
    "# int a = 5 In other languages you tell what should be data type of variable\n",
    "# In python you do not declare the type of the data and the variable detects the data type from the value assigned to variable\n"
   ]
  },
  {
   "cell_type": "code",
   "execution_count": 41,
   "id": "4281121b",
   "metadata": {},
   "outputs": [
    {
     "name": "stdout",
     "output_type": "stream",
     "text": [
      "5\n",
      "Ipsita\n"
     ]
    }
   ],
   "source": [
    "# Static Binding and Dynamic Binding\n",
    "a = 5\n",
    "print(a)\n",
    "a = 'Ipsita'\n",
    "print(a)\n",
    "# C follows static binding , if a variable is declared as a certain data type then in the whole program the data type of variable can not be changed\n"
   ]
  },
  {
   "cell_type": "code",
   "execution_count": 42,
   "id": "502810f6",
   "metadata": {},
   "outputs": [
    {
     "name": "stdout",
     "output_type": "stream",
     "text": [
      "1 2 3\n"
     ]
    }
   ],
   "source": [
    "# stylish way to create variable\n",
    "a= 1\n",
    "b= 2\n",
    "c= 3\n",
    "print(a,b,c)"
   ]
  },
  {
   "cell_type": "code",
   "execution_count": 43,
   "id": "a951ee27",
   "metadata": {},
   "outputs": [
    {
     "name": "stdout",
     "output_type": "stream",
     "text": [
      "1 2 3\n"
     ]
    }
   ],
   "source": [
    "a,b,c = 1,2,3\n",
    "print(a,b,c)"
   ]
  },
  {
   "cell_type": "code",
   "execution_count": 44,
   "id": "95204660",
   "metadata": {},
   "outputs": [
    {
     "name": "stdout",
     "output_type": "stream",
     "text": [
      "5 5 5\n"
     ]
    }
   ],
   "source": [
    "# If same value needs to be given to multiple variable \n",
    "a=b=c= 5\n",
    "print(a,b,c)"
   ]
  },
  {
   "cell_type": "code",
   "execution_count": null,
   "id": "01d1f4d5",
   "metadata": {},
   "outputs": [],
   "source": [
    "# Comments : To describe what the code is doing in each snippet.Python interpreter ignores the comment and does not execute it.\n",
    "a = 4\n",
    "b = 6 \n",
    "# summing up a and b\n",
    "print(a+b)"
   ]
  },
  {
   "cell_type": "markdown",
   "id": "6cc6f2f9",
   "metadata": {},
   "source": [
    "### Keywords and Identifiers\n"
   ]
  },
  {
   "cell_type": "code",
   "execution_count": 46,
   "id": "4156be5e",
   "metadata": {},
   "outputs": [],
   "source": [
    "# Compilation is the process of converting the code into machine level language (binary code)"
   ]
  },
  {
   "cell_type": "code",
   "execution_count": 57,
   "id": "b3be0303",
   "metadata": {},
   "outputs": [
    {
     "name": "stdout",
     "output_type": "stream",
     "text": [
      "36\n"
     ]
    }
   ],
   "source": [
    "#Python keywords are special reserved words that have specific meanings and purposes and can't be used for anything but those specific purposes.\n",
    "# These keywords cannot be used as variable name\n",
    "\n",
    "import keyword as kw\n",
    "keywords = list(kw.kwlist)\n",
    "\n",
    "keywords_count = len(keywords)\n",
    "print(keywords_count)"
   ]
  },
  {
   "cell_type": "code",
   "execution_count": 60,
   "id": "588d3e0e",
   "metadata": {},
   "outputs": [],
   "source": [
    "# Identifiers \n",
    "# Name given to any variable , function or class \n",
    "# Rules for creating identifier\n",
    "# 1- Cannot start with digit\n",
    "### 1name = 'ipsita'\n",
    "# 2= You can use only _ in special charecter\n",
    "### first-name = 'ipsita'\n",
    "first_name = 'ipsita'\n",
    "_ = 'ipsita'\n",
    "# Identifiers cannot be keywords\n"
   ]
  },
  {
   "cell_type": "markdown",
   "id": "562c55c8",
   "metadata": {},
   "source": [
    "### User Input "
   ]
  },
  {
   "cell_type": "code",
   "execution_count": 61,
   "id": "a20bbd28",
   "metadata": {},
   "outputs": [
    {
     "name": "stdout",
     "output_type": "stream",
     "text": [
      "Ipsita Panda\n"
     ]
    },
    {
     "data": {
      "text/plain": [
       "'Ipsita Panda'"
      ]
     },
     "execution_count": 61,
     "metadata": {},
     "output_type": "execute_result"
    }
   ],
   "source": [
    "# Static vs Dynamic software \n",
    "# Dynamic software : where users can interact with software\n",
    "input()"
   ]
  },
  {
   "cell_type": "code",
   "execution_count": 63,
   "id": "82443d78",
   "metadata": {},
   "outputs": [
    {
     "name": "stdout",
     "output_type": "stream",
     "text": [
      "Enter a number : 6\n",
      "Enter a name : Ipsita Panda\n"
     ]
    },
    {
     "data": {
      "text/plain": [
       "'Ipsita Panda'"
      ]
     },
     "execution_count": 63,
     "metadata": {},
     "output_type": "execute_result"
    }
   ],
   "source": [
    "# Input with prompt\n",
    "input('Enter a number : ')\n",
    "input('Enter a name : ')"
   ]
  },
  {
   "cell_type": "markdown",
   "id": "2f63f20b",
   "metadata": {},
   "source": [
    "### Type conversion"
   ]
  },
  {
   "cell_type": "code",
   "execution_count": 79,
   "id": "ec8d6e6f",
   "metadata": {},
   "outputs": [
    {
     "name": "stdout",
     "output_type": "stream",
     "text": [
      "Enter first number :45\n",
      "Enter second number :55\n",
      "The result is of adding 45 and 55 is 100\n",
      "<class 'int'>\n"
     ]
    }
   ],
   "source": [
    "# Addition of variables\n",
    "# Taking input from user\n",
    "# string is an universal format and other data types can be stored in string\n",
    "num_f = int(input('Enter first number :'))\n",
    "num_s = int(input('Enter second number :'))\n",
    "result = num_f + num_s\n",
    "print('The result is of adding {} and {} is'.format(num_f,num_s),result)\n",
    "print(type(num_f))"
   ]
  },
  {
   "cell_type": "code",
   "execution_count": 81,
   "id": "1078485c",
   "metadata": {},
   "outputs": [
    {
     "name": "stdout",
     "output_type": "stream",
     "text": [
      "Enter first number :45\n",
      "Enter second number :55\n",
      "The result is of adding 45 and 55 is 100\n",
      "<class 'str'>\n"
     ]
    }
   ],
   "source": [
    "num_f = input('Enter first number :')\n",
    "num_s = input('Enter second number :')\n",
    "result = int(num_f) + int(num_s) # here a new object with data type int is created and data type of num_f and num_s does not change\n",
    "print('The result is of adding {} and {} is'.format(num_f,num_s),result)\n",
    "print(type(num_f))"
   ]
  },
  {
   "cell_type": "code",
   "execution_count": 67,
   "id": "f7df32eb",
   "metadata": {},
   "outputs": [
    {
     "data": {
      "text/plain": [
       "'These are two numbers 55 and 45'"
      ]
     },
     "execution_count": 67,
     "metadata": {},
     "output_type": "execute_result"
    }
   ],
   "source": [
    "'These are two numbers {num1} and {num2}'.format(num1 = num_s,num2 = num_f)"
   ]
  },
  {
   "cell_type": "code",
   "execution_count": 69,
   "id": "cd91f1dc",
   "metadata": {},
   "outputs": [
    {
     "name": "stdout",
     "output_type": "stream",
     "text": [
      "10.6\n",
      "<class 'int'> <class 'float'>\n"
     ]
    }
   ],
   "source": [
    "# Implicit Type conversion\n",
    "print(5+5.6)\n",
    "print(type(5),type(5.6))"
   ]
  },
  {
   "cell_type": "code",
   "execution_count": 71,
   "id": "6b052aae",
   "metadata": {},
   "outputs": [
    {
     "ename": "TypeError",
     "evalue": "unsupported operand type(s) for +: 'int' and 'str'",
     "output_type": "error",
     "traceback": [
      "\u001b[1;31m---------------------------------------------------------------------------\u001b[0m",
      "\u001b[1;31mTypeError\u001b[0m                                 Traceback (most recent call last)",
      "\u001b[1;32m~\\AppData\\Local\\Temp\\ipykernel_18024\\2190466622.py\u001b[0m in \u001b[0;36m<module>\u001b[1;34m\u001b[0m\n\u001b[0;32m      1\u001b[0m \u001b[1;31m# Implicit Type conversion does not work here as in real world too string cannot be added to integer\u001b[0m\u001b[1;33m\u001b[0m\u001b[1;33m\u001b[0m\u001b[0m\n\u001b[1;32m----> 2\u001b[1;33m \u001b[0mprint\u001b[0m\u001b[1;33m(\u001b[0m\u001b[1;36m4\u001b[0m\u001b[1;33m+\u001b[0m\u001b[1;34m'4'\u001b[0m\u001b[1;33m)\u001b[0m\u001b[1;33m\u001b[0m\u001b[1;33m\u001b[0m\u001b[0m\n\u001b[0m",
      "\u001b[1;31mTypeError\u001b[0m: unsupported operand type(s) for +: 'int' and 'str'"
     ]
    }
   ],
   "source": [
    "# Implicit Type conversion does not work here as in real world too string cannot be added to integer\n",
    "print(4+'4')"
   ]
  },
  {
   "cell_type": "code",
   "execution_count": 72,
   "id": "4158f091",
   "metadata": {},
   "outputs": [
    {
     "data": {
      "text/plain": [
       "4"
      ]
     },
     "execution_count": 72,
     "metadata": {},
     "output_type": "execute_result"
    }
   ],
   "source": [
    "# Explicit Type Conversion\n",
    "int('4')\n"
   ]
  },
  {
   "cell_type": "code",
   "execution_count": 73,
   "id": "ba94751e",
   "metadata": {},
   "outputs": [
    {
     "data": {
      "text/plain": [
       "'10'"
      ]
     },
     "execution_count": 73,
     "metadata": {},
     "output_type": "execute_result"
    }
   ],
   "source": [
    "str(10)"
   ]
  },
  {
   "cell_type": "code",
   "execution_count": 74,
   "id": "542cf083",
   "metadata": {},
   "outputs": [
    {
     "data": {
      "text/plain": [
       "7"
      ]
     },
     "execution_count": 74,
     "metadata": {},
     "output_type": "execute_result"
    }
   ],
   "source": [
    "int(7.8)"
   ]
  },
  {
   "cell_type": "code",
   "execution_count": 75,
   "id": "66f1bc8c",
   "metadata": {},
   "outputs": [
    {
     "ename": "TypeError",
     "evalue": "can't convert complex to int",
     "output_type": "error",
     "traceback": [
      "\u001b[1;31m---------------------------------------------------------------------------\u001b[0m",
      "\u001b[1;31mTypeError\u001b[0m                                 Traceback (most recent call last)",
      "\u001b[1;32m~\\AppData\\Local\\Temp\\ipykernel_18024\\709783291.py\u001b[0m in \u001b[0;36m<module>\u001b[1;34m\u001b[0m\n\u001b[1;32m----> 1\u001b[1;33m \u001b[0mint\u001b[0m\u001b[1;33m(\u001b[0m\u001b[1;36m5\u001b[0m\u001b[1;33m+\u001b[0m\u001b[1;36m6j\u001b[0m\u001b[1;33m)\u001b[0m\u001b[1;33m\u001b[0m\u001b[1;33m\u001b[0m\u001b[0m\n\u001b[0m",
      "\u001b[1;31mTypeError\u001b[0m: can't convert complex to int"
     ]
    }
   ],
   "source": [
    "int(5+6j)"
   ]
  },
  {
   "cell_type": "code",
   "execution_count": 76,
   "id": "a7049edd",
   "metadata": {},
   "outputs": [
    {
     "data": {
      "text/plain": [
       "[1, 2, 3, 4]"
      ]
     },
     "execution_count": 76,
     "metadata": {},
     "output_type": "execute_result"
    }
   ],
   "source": [
    "list((1,2,3,4))"
   ]
  },
  {
   "cell_type": "code",
   "execution_count": 77,
   "id": "45c2b717",
   "metadata": {},
   "outputs": [
    {
     "data": {
      "text/plain": [
       "True"
      ]
     },
     "execution_count": 77,
     "metadata": {},
     "output_type": "execute_result"
    }
   ],
   "source": [
    "bool(2)"
   ]
  },
  {
   "cell_type": "code",
   "execution_count": 78,
   "id": "c3385e98",
   "metadata": {},
   "outputs": [
    {
     "data": {
      "text/plain": [
       "False"
      ]
     },
     "execution_count": 78,
     "metadata": {},
     "output_type": "execute_result"
    }
   ],
   "source": [
    "bool(0)"
   ]
  },
  {
   "cell_type": "markdown",
   "id": "9674afe5",
   "metadata": {},
   "source": [
    "### Literals"
   ]
  },
  {
   "cell_type": "code",
   "execution_count": 91,
   "id": "b6751f96",
   "metadata": {},
   "outputs": [
    {
     "name": "stdout",
     "output_type": "stream",
     "text": [
      "10 100 200 300\n",
      "10.5 1500.0 0.0015\n",
      "0.0 18.0\n"
     ]
    }
   ],
   "source": [
    "# The value given to variable is known as literal\n",
    "# Integer Literal\n",
    "a = 0b1010 # Binary literal\n",
    "b = 100 # Decimal Literal\n",
    "c = 0o310 # Octal Literal\n",
    "d = 0x12c # Hexadecimal Literal\n",
    "\n",
    "# Float Literal\n",
    "float_1 = 10.5\n",
    "float_2 = 1.5e3\n",
    "float_3 = 1.5e-3\n",
    "\n",
    "#complex literal\n",
    "x = 18j\n",
    "\n",
    "print(a,b,c,d)\n",
    "print(float_1,float_2,float_3)\n",
    "print(x.real,x.imag)"
   ]
  },
  {
   "cell_type": "code",
   "execution_count": 88,
   "id": "6d16ae54",
   "metadata": {},
   "outputs": [
    {
     "data": {
      "text/plain": [
       "0.0015"
      ]
     },
     "execution_count": 88,
     "metadata": {},
     "output_type": "execute_result"
    }
   ],
   "source": [
    "float_3"
   ]
  },
  {
   "cell_type": "code",
   "execution_count": 102,
   "id": "fef040a9",
   "metadata": {},
   "outputs": [
    {
     "name": "stdout",
     "output_type": "stream",
     "text": [
      "This is with single quote\n",
      "This is with double quote\n",
      "c\n",
      "This is \n",
      "a multi line\n",
      "string with more than one\n",
      "line of code\n",
      "😀😆🤣😇😈😉🤤\n",
      "raw \\n string\n"
     ]
    }
   ],
   "source": [
    "# String Literal\n",
    "string_1 = 'This is with single quote'\n",
    "string_2 = \"This is with double quote\"\n",
    "char = 'c'\n",
    "multiline_str = \"\"\"This is \n",
    "a multi line\n",
    "string with more than one\n",
    "line of code\"\"\"\n",
    "unicode = u\"\\U0001f600\\U0001F606\\U0001F923\\U0001F607\\U0001F608\\U0001F609\\U0001F924\"\n",
    "raw_str = r\"raw \\n string\"\n",
    "print(string_1)\n",
    "print(string_2)\n",
    "print(char)\n",
    "print(multiline_str)\n",
    "print(unicode)\n",
    "print(raw_str)"
   ]
  },
  {
   "cell_type": "code",
   "execution_count": 95,
   "id": "aed50965",
   "metadata": {},
   "outputs": [
    {
     "data": {
      "text/plain": [
       "'raw \\\\n string'"
      ]
     },
     "execution_count": 95,
     "metadata": {},
     "output_type": "execute_result"
    }
   ],
   "source": [
    "raw_str\n"
   ]
  },
  {
   "cell_type": "code",
   "execution_count": 96,
   "id": "961632fc",
   "metadata": {},
   "outputs": [],
   "source": [
    "# Python raw string treats the backslash character (\\) as a literal character. Raw string is useful when a string needs to contain a backslash, such as for a regular expression or Windows directory path, and you don’t want it to be treated as an escape character. "
   ]
  },
  {
   "cell_type": "code",
   "execution_count": 97,
   "id": "8cd0b59f",
   "metadata": {},
   "outputs": [],
   "source": [
    "# https://www.digitalocean.com/community/tutorials/python-raw-string"
   ]
  },
  {
   "cell_type": "code",
   "execution_count": 103,
   "id": "1bf0fe5a",
   "metadata": {},
   "outputs": [
    {
     "name": "stdout",
     "output_type": "stream",
     "text": [
      "a : 5\n",
      "b : 10\n"
     ]
    }
   ],
   "source": [
    "a = True + 4\n",
    "b = False + 10\n",
    "print(\"a :\",a)\n",
    "print(\"b :\",b)"
   ]
  },
  {
   "cell_type": "code",
   "execution_count": 106,
   "id": "451fc839",
   "metadata": {},
   "outputs": [
    {
     "name": "stdout",
     "output_type": "stream",
     "text": [
      "None\n"
     ]
    }
   ],
   "source": [
    "# None literal\n",
    "# When you donot know what will be the data type of the variable and still you want to initialize it then use None\n",
    "a = None\n",
    "print(a)"
   ]
  },
  {
   "cell_type": "code",
   "execution_count": null,
   "id": "e383a6fa",
   "metadata": {},
   "outputs": [],
   "source": []
  }
 ],
 "metadata": {
  "kernelspec": {
   "display_name": "Python 3 (ipykernel)",
   "language": "python",
   "name": "python3"
  },
  "language_info": {
   "codemirror_mode": {
    "name": "ipython",
    "version": 3
   },
   "file_extension": ".py",
   "mimetype": "text/x-python",
   "name": "python",
   "nbconvert_exporter": "python",
   "pygments_lexer": "ipython3",
   "version": "3.9.13"
  }
 },
 "nbformat": 4,
 "nbformat_minor": 5
}
