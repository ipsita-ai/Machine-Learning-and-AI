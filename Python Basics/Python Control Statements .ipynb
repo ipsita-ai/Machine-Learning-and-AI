{
 "cells": [
  {
   "cell_type": "markdown",
   "id": "29aae1ef",
   "metadata": {},
   "source": [
    "### Operators in python\n",
    "- Arithmatic\n",
    "- Relational\n",
    "- Logical\n",
    "- Bitwise\n",
    "- Assignment\n",
    "- Membership"
   ]
  },
  {
   "cell_type": "code",
   "execution_count": 3,
   "id": "ac64d49f",
   "metadata": {},
   "outputs": [
    {
     "name": "stdout",
     "output_type": "stream",
     "text": [
      "11\n",
      "-1\n",
      "30\n",
      "2.5\n",
      "2\n",
      "1\n",
      "25\n"
     ]
    }
   ],
   "source": [
    "# Arithmatic Operator\n",
    "print(5+6)\n",
    "\n",
    "print(5-6)\n",
    "\n",
    "print(5*6)\n",
    "\n",
    "print(5/2)\n",
    "\n",
    "print(5//2) # Integer division\n",
    "\n",
    "print(5%2) # modulus operator\n",
    "\n",
    "print(5**2) # power"
   ]
  },
  {
   "cell_type": "code",
   "execution_count": 4,
   "id": "38914fdc",
   "metadata": {},
   "outputs": [
    {
     "name": "stdout",
     "output_type": "stream",
     "text": [
      "True\n",
      "False\n",
      "True\n",
      "False\n",
      "True\n",
      "False\n"
     ]
    }
   ],
   "source": [
    "# Relational Operators with numbers\n",
    "\n",
    "print(5>2)\n",
    "\n",
    "print(5<2)\n",
    "\n",
    "print(5 >= 2)\n",
    "\n",
    "print(5 <= 2)\n",
    "\n",
    "print(5 == 5)\n",
    "\n",
    "print(5 != 5)"
   ]
  },
  {
   "cell_type": "code",
   "execution_count": 11,
   "id": "5fa3088d",
   "metadata": {},
   "outputs": [
    {
     "name": "stdout",
     "output_type": "stream",
     "text": [
      "False\n",
      "True\n",
      "True\n",
      "False\n"
     ]
    }
   ],
   "source": [
    "# Relational Operators with charecters\n",
    "print('a' > 'b')\n",
    "print('a' < 'b')\n",
    "print('a' >= 'A')\n",
    "print('a' <= 'A')"
   ]
  },
  {
   "cell_type": "code",
   "execution_count": 12,
   "id": "cfef0325",
   "metadata": {},
   "outputs": [
    {
     "name": "stdout",
     "output_type": "stream",
     "text": [
      "0\n",
      "1\n",
      "False\n"
     ]
    }
   ],
   "source": [
    "# logical operator\n",
    "\n",
    "print(1 and 0)\n",
    "print(1 or 0)\n",
    "print(not 1)"
   ]
  },
  {
   "cell_type": "code",
   "execution_count": 18,
   "id": "ef4e2fb7",
   "metadata": {},
   "outputs": [
    {
     "name": "stdout",
     "output_type": "stream",
     "text": [
      "2\n",
      "3\n",
      "1\n",
      "-5\n",
      "1\n",
      "16\n"
     ]
    }
   ],
   "source": [
    "# Bit wise operator\n",
    "# bitwise and\n",
    "print(2&3)\n",
    "# 2= 0010 3 = 0011\n",
    "# 2 & 3 = 0010\n",
    "\n",
    "# bitwise or\n",
    "print(2|3)\n",
    "\n",
    "# bitwise xor\n",
    "print(2^3)\n",
    "\n",
    "# bitwise not\n",
    "# 4 = 0100 --> 0101\n",
    "print(~4)\n",
    "\n",
    "# bitwise left shift\n",
    "print(4 >> 2)\n",
    "\n",
    "# bitwise right shift\n",
    "print(4 << 2)"
   ]
  },
  {
   "cell_type": "code",
   "execution_count": 20,
   "id": "71852a54",
   "metadata": {},
   "outputs": [
    {
     "name": "stdout",
     "output_type": "stream",
     "text": [
      "4\n",
      "0\n"
     ]
    }
   ],
   "source": [
    "# Assignment operator\n",
    "a = 2\n",
    "a += 5\n",
    "a -= 3\n",
    "print(a)\n",
    "a %= 2\n",
    "print(a)"
   ]
  },
  {
   "cell_type": "code",
   "execution_count": 23,
   "id": "5cd8ec0d",
   "metadata": {},
   "outputs": [
    {
     "name": "stdout",
     "output_type": "stream",
     "text": [
      "True\n",
      "False\n"
     ]
    }
   ],
   "source": [
    "# Membership operator \n",
    "# in / not in \n",
    "\n",
    "print ('d' in 'delhi')\n",
    "print(1 in [12,10,56,87])"
   ]
  },
  {
   "cell_type": "code",
   "execution_count": 24,
   "id": "9b669eef",
   "metadata": {},
   "outputs": [
    {
     "data": {
      "text/plain": [
       "251"
      ]
     },
     "execution_count": 24,
     "metadata": {},
     "output_type": "execute_result"
    }
   ],
   "source": [
    "~4 & 255"
   ]
  },
  {
   "cell_type": "code",
   "execution_count": 26,
   "id": "0b586297",
   "metadata": {},
   "outputs": [
    {
     "name": "stdout",
     "output_type": "stream",
     "text": [
      "Enter a number123456\n",
      "21\n"
     ]
    }
   ],
   "source": [
    "# find the sum of digits in the number\n",
    "number = int(input('Enter a number'))\n",
    "result = 0\n",
    "while number != 0:\n",
    "    last_digit = number % 10\n",
    "    result += last_digit\n",
    "    number = number // 10\n",
    "print(result)"
   ]
  },
  {
   "cell_type": "code",
   "execution_count": 31,
   "id": "b53349c0",
   "metadata": {},
   "outputs": [
    {
     "name": "stdout",
     "output_type": "stream",
     "text": [
      "Hello , Welcome to our website\n",
      "Enter you email to login : ipsita.panda@gmail.com\n",
      "Enter password :1345\n",
      "Incorrect password,try again\n",
      "Enter password :1234\n",
      "Successfully logged in\n"
     ]
    }
   ],
   "source": [
    "# If - Else in Python \n",
    "# Login program and indentation\n",
    "# email --> ipsita.panda@gmail.com\n",
    "# password --> 1234\n",
    "print('Hello , Welcome to our website')\n",
    "email = input('Enter you email to login : ')\n",
    "password = input('Enter password :')\n",
    "\n",
    "if email == 'ipsita.panda@gmail.com' and password == '1234':\n",
    "    print('Successfully logged in')\n",
    "elif email == 'ipsita.panda@gmail.com' and password != '1234':\n",
    "    print('Incorrect password,try again')\n",
    "    password = input('Enter password :')\n",
    "    if password == '1234':\n",
    "        print('Successfully logged in')\n",
    "    else:\n",
    "        print('Incorrect password.Reset Password')\n",
    "else:\n",
    "    print('Incorrect email or password')\n",
    "    "
   ]
  },
  {
   "cell_type": "code",
   "execution_count": 32,
   "id": "9b33292a",
   "metadata": {},
   "outputs": [
    {
     "name": "stdout",
     "output_type": "stream",
     "text": [
      "first num : 4\n",
      "second num : 3\n",
      "third num : 5\n",
      "The smallest number is 3\n"
     ]
    }
   ],
   "source": [
    "# Min of three numbers\n",
    "a = int(input('first num : '))\n",
    "b = int(input('second num : '))\n",
    "c = int(input('third num : '))\n",
    "if a < b and a < c:\n",
    "    print('The smallest number is',a)\n",
    "elif b < c:\n",
    "    print('The smallest number is',b)\n",
    "else:\n",
    "    print('The smallest number is',c)"
   ]
  },
  {
   "cell_type": "code",
   "execution_count": 38,
   "id": "237c986b",
   "metadata": {},
   "outputs": [
    {
     "name": "stdout",
     "output_type": "stream",
     "text": [
      "enter the 1st number : 2\n",
      "enter the 2nd number : 8\n",
      "Enter the operation : *\n",
      "The result of 2 * 8 is 16\n"
     ]
    }
   ],
   "source": [
    "# Menu driven calculator\n",
    "fnum = int(input('enter the 1st number : '))\n",
    "snum = int(input('enter the 2nd number : '))\n",
    "\n",
    "op = input('Enter the operation : ')\n",
    "lst = ['+','-','*','/']\n",
    "\n",
    "if op == '+':\n",
    "    print('The result of {} + {} is'.format(fnum,snum),fnum + snum)\n",
    "elif op == '-':\n",
    "    print('The result of {} - {} is'.format(fnum,snum),fnum - snum)\n",
    "elif op == '*':\n",
    "    print('The result of {} * {} is'.format(fnum,snum),fnum * snum)\n",
    "elif op == '/':\n",
    "    print('The result of {} / {} is'.format(fnum,snum),fnum / snum)\n",
    "else: \n",
    "    print('Enter an op from the list : + , - , * , / ')\n"
   ]
  },
  {
   "cell_type": "code",
   "execution_count": 39,
   "id": "fe7e5424",
   "metadata": {},
   "outputs": [
    {
     "name": "stdout",
     "output_type": "stream",
     "text": [
      "\n",
      "Hi , How can I help you.\n",
      "1- Enter 1 for pin change\n",
      "2- Enter 2 for balance check\n",
      "3- Enter 3 for withdrawal\n",
      "4- Exit : 2\n",
      "Balance Check\n"
     ]
    }
   ],
   "source": [
    "# Menu driven ATM\n",
    "menu = input('''\n",
    "Hi , How can I help you.\n",
    "1- Enter 1 for pin change\n",
    "2- Enter 2 for balance check\n",
    "3- Enter 3 for withdrawal\n",
    "4- Exit : ''')\n",
    "if menu == '1':\n",
    "    print('Pin Change')\n",
    "elif menu == '2':\n",
    "    print('Balance Check')\n",
    "elif menu == '3':\n",
    "    print('Withdrawal')\n",
    "else:\n",
    "    print('Exit')"
   ]
  },
  {
   "cell_type": "markdown",
   "id": "db613f96",
   "metadata": {},
   "source": [
    "### Modules in Python\n",
    "- Module is basically a python file containing functions . We can import the file in our code and use functions written in file/module\n",
    "    - Math\n",
    "    - Keywords\n",
    "    - Datetime\n",
    "    - Random"
   ]
  },
  {
   "cell_type": "code",
   "execution_count": 40,
   "id": "b0b047d6",
   "metadata": {},
   "outputs": [],
   "source": [
    "# Math Module \n",
    "import math as m "
   ]
  },
  {
   "cell_type": "code",
   "execution_count": 41,
   "id": "55487949",
   "metadata": {},
   "outputs": [
    {
     "data": {
      "text/plain": [
       "3.0"
      ]
     },
     "execution_count": 41,
     "metadata": {},
     "output_type": "execute_result"
    }
   ],
   "source": [
    "m.sqrt(9)"
   ]
  },
  {
   "cell_type": "code",
   "execution_count": 42,
   "id": "dda7b51e",
   "metadata": {},
   "outputs": [
    {
     "data": {
      "text/plain": [
       "120"
      ]
     },
     "execution_count": 42,
     "metadata": {},
     "output_type": "execute_result"
    }
   ],
   "source": [
    "m.factorial(5)"
   ]
  },
  {
   "cell_type": "code",
   "execution_count": 43,
   "id": "797dc363",
   "metadata": {},
   "outputs": [
    {
     "data": {
      "text/plain": [
       "6"
      ]
     },
     "execution_count": 43,
     "metadata": {},
     "output_type": "execute_result"
    }
   ],
   "source": [
    "m.floor(6.9)"
   ]
  },
  {
   "cell_type": "code",
   "execution_count": 47,
   "id": "bf752c96",
   "metadata": {},
   "outputs": [
    {
     "data": {
      "text/plain": [
       "['False',\n",
       " 'None',\n",
       " 'True',\n",
       " '__peg_parser__',\n",
       " 'and',\n",
       " 'as',\n",
       " 'assert',\n",
       " 'async',\n",
       " 'await',\n",
       " 'break',\n",
       " 'class',\n",
       " 'continue',\n",
       " 'def',\n",
       " 'del',\n",
       " 'elif',\n",
       " 'else',\n",
       " 'except',\n",
       " 'finally',\n",
       " 'for',\n",
       " 'from',\n",
       " 'global',\n",
       " 'if',\n",
       " 'import',\n",
       " 'in',\n",
       " 'is',\n",
       " 'lambda',\n",
       " 'nonlocal',\n",
       " 'not',\n",
       " 'or',\n",
       " 'pass',\n",
       " 'raise',\n",
       " 'return',\n",
       " 'try',\n",
       " 'while',\n",
       " 'with',\n",
       " 'yield']"
      ]
     },
     "execution_count": 47,
     "metadata": {},
     "output_type": "execute_result"
    }
   ],
   "source": [
    "# Keyword Module\n",
    "import keyword as kw\n",
    "kw.kwlist"
   ]
  },
  {
   "cell_type": "code",
   "execution_count": 49,
   "id": "d38fea0d",
   "metadata": {},
   "outputs": [
    {
     "data": {
      "text/plain": [
       "18"
      ]
     },
     "execution_count": 49,
     "metadata": {},
     "output_type": "execute_result"
    }
   ],
   "source": [
    "# Random Module\n",
    "import random as r\n",
    "r.randint(10,100)"
   ]
  },
  {
   "cell_type": "code",
   "execution_count": 50,
   "id": "3d33c952",
   "metadata": {},
   "outputs": [
    {
     "data": {
      "text/plain": [
       "datetime.datetime(2023, 5, 13, 22, 57, 18, 249901)"
      ]
     },
     "execution_count": 50,
     "metadata": {},
     "output_type": "execute_result"
    }
   ],
   "source": [
    "# Datetime Module\n",
    "import datetime as dt\n",
    "dt.datetime.now()\n"
   ]
  },
  {
   "cell_type": "code",
   "execution_count": 52,
   "id": "5482c62d",
   "metadata": {},
   "outputs": [
    {
     "name": "stdout",
     "output_type": "stream",
     "text": [
      "\n",
      "Please wait a moment while I gather a list of all available modules...\n",
      "\n"
     ]
    },
    {
     "name": "stderr",
     "output_type": "stream",
     "text": [
      "C:\\Users\\ipsit\\anaconda\\lib\\site-packages\\IPython\\kernel\\__init__.py:12: ShimWarning: The `IPython.kernel` package has been deprecated since IPython 4.0.You should import from ipykernel or jupyter_client instead.\n",
      "  warn(\"The `IPython.kernel` package has been deprecated since IPython 4.0.\"\n",
      "WARNING: AstropyDeprecationWarning: The private astropy._erfa module has been made into its own package, pyerfa, which is a dependency of astropy and can be imported directly using \"import erfa\" [astropy._erfa]\n",
      "C:\\Users\\ipsit\\anaconda\\lib\\site-packages\\paramiko\\transport.py:219: CryptographyDeprecationWarning: Blowfish has been deprecated\n",
      "  \"class\": algorithms.Blowfish,\n",
      "C:\\Users\\ipsit\\anaconda\\lib\\site-packages\\nltk\\twitter\\__init__.py:20: UserWarning: The twython library has not been installed. Some functionality from the twitter package will not be available.\n",
      "  warnings.warn(\n",
      "C:\\Users\\ipsit\\anaconda\\lib\\site-packages\\setuptools\\_distutils\\_msvccompiler.py:563: UserWarning: Fallback spawn triggered. Please update distutils monkeypatch.\n",
      "  warnings.warn(\"Fallback spawn triggered. Please update distutils monkeypatch.\")\n",
      "C:\\Users\\ipsit\\anaconda\\lib\\site-packages\\_distutils_hack\\__init__.py:33: UserWarning: Setuptools is replacing distutils.\n",
      "  warnings.warn(\"Setuptools is replacing distutils.\")\n",
      "No QCoreApplication instance found. Application patches not applied. You have to call load_stylesheet function after instantiation of QApplication to take effect. \n",
      "C:\\Users\\ipsit\\anaconda\\lib\\pkgutil.py:108: VisibleDeprecationWarning:\n",
      "\n",
      "zmq.eventloop.minitornado is deprecated in pyzmq 14.0 and will be removed.\n",
      "    Install tornado itself to use zmq with the tornado IOLoop.\n",
      "    \n",
      "\n"
     ]
    },
    {
     "name": "stdout",
     "output_type": "stream",
     "text": [
      "Cython              compileall          mmsystem            snowballstemmer\n",
      "IPython             comtypes            mock                socket\n",
      "OpenSSL             concurrent          modulefinder        socketserver\n",
      "PIL                 conda               mpmath              socks\n",
      "PyQt5               conda_build         msgpack             sockshandler\n",
      "TBB                 conda_content_trust msilib              sortedcollections\n",
      "__future__          conda_env           msvcrt              sortedcontainers\n",
      "_abc                conda_pack          multipledispatch    soupsieve\n",
      "_aix_support        conda_package_handling multiprocessing     sphinx\n",
      "_argon2_cffi_bindings conda_token         munkres             spyder\n",
      "_ast                conda_verify        mypy_extensions     spyder_kernels\n",
      "_asyncio            configparser        nacl                sqlalchemy\n",
      "_bisect             constantly          navigator_updater   sqlite3\n",
      "_black_version      contextlib          nbclassic           sre_compile\n",
      "_blake2             contextvars         nbclient            sre_constants\n",
      "_bootlocale         cookiecutter        nbconvert           sre_parse\n",
      "_bootsubprocess     copy                nbformat            ssl\n",
      "_bz2                copyreg             nest_asyncio        sspi\n",
      "_cffi_backend       crypt               netbios             sspicon\n",
      "_codecs             cryptography        netrc               stat\n",
      "_codecs_cn          cssselect           networkx            statistics\n",
      "_codecs_hk          csv                 nltk                statsmodels\n",
      "_codecs_iso2022     ctypes              nntplib             storemagic\n",
      "_codecs_jp          curl                nose                string\n",
      "_codecs_kr          curses              notebook            stringprep\n",
      "_codecs_tw          cwp                 nt                  struct\n",
      "_collections        cycler              ntpath              subprocess\n",
      "_collections_abc    cython              ntsecuritycon       sunau\n",
      "_compat_pickle      cythonmagic         nturl2path          symbol\n",
      "_compression        cytoolz             numba               sympy\n",
      "_contextvars        daal4py             numbergen           sympyprinting\n",
      "_csv                dask                numbers             symtable\n",
      "_ctypes             dataclasses         numexpr             sys\n",
      "_ctypes_test        datashader          numpy               sysconfig\n",
      "_datetime           datashape           numpydoc            tables\n",
      "_decimal            datetime            odbc                tabnanny\n",
      "_distutils_hack     dateutil            olefile             tabulate\n",
      "_elementtree        dbi                 onedal              tarfile\n",
      "_functools          dbm                 opcode              tbb\n",
      "_hashlib            dde                 openpyxl            tblib\n",
      "_heapq              debugpy             operator            telnetlib\n",
      "_imp                decimal             optparse            tempfile\n",
      "_io                 decorator           os                  tenacity\n",
      "_json               defusedxml          packaging           terminado\n",
      "_locale             diff_match_patch    pandas              test\n",
      "_lsprof             difflib             pandocfilters       test_pycosat\n",
      "_lzma               dill                panel               testpath\n",
      "_markupbase         dis                 param               tests\n",
      "_md5                distributed         paramiko            text_unidecode\n",
      "_msi                distutils           parsel              textdistance\n",
      "_multibytecodec     doctest             parser              textwrap\n",
      "_multiprocessing    docutils            parso               this\n",
      "_nsis               email               partd               threading\n",
      "_opcode             encodings           past                threadpoolctl\n",
      "_operator           ensurepip           pathlib             three_merge\n",
      "_osx_support        entrypoints         pathspec            tifffile\n",
      "_overlapped         enum                patsy               time\n",
      "_peg_parser         erfa                pdb                 timeit\n",
      "_pickle             errno               pep8                timer\n",
      "_plotly_future_     et_xmlfile          perfmon             tinycss\n",
      "_plotly_utils       fastjsonschema      pexpect             tkinter\n",
      "_py_abc             faulthandler        pickle              tldextract\n",
      "_pydecimal          filecmp             pickleshare         tlz\n",
      "_pyio               fileinput           pickletools         token\n",
      "_pyrsistent_version filelock            pip                 tokenize\n",
      "_pytest             flake8              pipes               toml\n",
      "_queue              flask               pkg_resources       tomli\n",
      "_random             fnmatch             pkginfo             tomlkit\n",
      "_ruamel_yaml        fontTools           pkgutil             toolz\n",
      "_sha1               formatter           platform            tornado\n",
      "_sha256             fractions           platformdirs        tqdm\n",
      "_sha3               fsspec              playsound           trace\n",
      "_sha512             ftplib              plistlib            traceback\n",
      "_signal             functools           plotly              tracemalloc\n",
      "_sitebuiltins       future              pluggy              traitlets\n",
      "_socket             gc                  poplib              tty\n",
      "_sqlite3            genericpath         posixpath           turtle\n",
      "_sre                gensim              poyo                turtledemo\n",
      "_ssl                getopt              pprint              twisted\n",
      "_stat               getpass             profile             types\n",
      "_statistics         gettext             prometheus_client   typing\n",
      "_string             glob                prompt_toolkit      typing_extensions\n",
      "_strptime           glob2               protego             ujson\n",
      "_struct             graphlib            pstats              unicodedata\n",
      "_symtable           greenlet            psutil              unidecode\n",
      "_system_path        gzip                pty                 unittest\n",
      "_testbuffer         h5py                ptyprocess          urllib\n",
      "_testcapi           hamcrest            pvectorc            urllib3\n",
      "_testconsole        hashlib             py                  uu\n",
      "_testimportmultiple heapdict            py_compile          uuid\n",
      "_testinternalcapi   heapq               pyasn1              venv\n",
      "_testmultiphase     hmac                pyasn1_modules      w3lib\n",
      "_thread             holoviews           pyclbr              warnings\n",
      "_threading_local    html                pycodestyle         watchdog\n",
      "_tkinter            http                pycosat             wave\n",
      "_tracemalloc        hvplot              pycparser           wcwidth\n",
      "_uuid               hyperlink           pyct                weakref\n",
      "_warnings           idlelib             pycurl              webbrowser\n",
      "_weakref            idna                pydispatch          webencodings\n",
      "_weakrefset         imagecodecs         pydoc               websocket\n",
      "_win32sysloader     imageio             pydoc_data          werkzeug\n",
      "_winapi             imagesize           pydocstyle          wheel\n",
      "_winxptheme         imaplib             pyexpat             widgetsnbextension\n",
      "_xxsubinterpreters  imghdr              pyflakes            win2kras\n",
      "_yaml               imp                 pyforest            win32api\n",
      "_zoneinfo           importlib           pygments            win32clipboard\n",
      "abc                 importlib_metadata  pylab               win32com\n",
      "adodbapi            incremental         pylint              win32con\n",
      "afxres              inflection          pyls_spyder         win32console\n",
      "aifc                iniconfig           pylsp               win32cred\n",
      "alabaster           inspect             pylsp_black         win32crypt\n",
      "anaconda_navigator  intake              pylsp_jsonrpc       win32cryptcon\n",
      "anaconda_project    intervaltree        pyodbc              win32ctypes\n",
      "antigravity         io                  pyparsing           win32event\n",
      "anyio               ipaddress           pyrsistent          win32evtlog\n",
      "appdirs             ipykernel           pytest              win32evtlogutil\n",
      "argon2              ipykernel_launcher  pythoncom           win32file\n",
      "argparse            ipython_genutils    pytz                win32gui\n",
      "array               ipywidgets          pyviz_comms         win32gui_struct\n",
      "arrow               isapi               pywin               win32help\n",
      "ast                 isort               pywin32_bootstrap   win32inet\n",
      "astroid             isympy              pywin32_testutil    win32inetcon\n",
      "astropy             itemadapter         pywintypes          win32job\n",
      "asynchat            itemloaders         pywt                win32lz\n",
      "asyncio             itertools           pyximport           win32net\n",
      "asyncore            itsdangerous        qdarkstyle          win32netcon\n",
      "atexit              jdcal               qstylizer           win32pdh\n",
      "atomicwrites        jedi                qtawesome           win32pdhquery\n",
      "attr                jellyfish           qtconsole           win32pdhutil\n",
      "attrs               jinja2              qtpy                win32pipe\n",
      "audioop             jinja2_time         queue               win32print\n",
      "automat             jmespath            queuelib            win32process\n",
      "autopep8            joblib              quopri              win32profile\n",
      "autoreload          json                random              win32ras\n",
      "babel               json5               rasutil             win32rcparser\n",
      "backcall            jsonschema          re                  win32security\n",
      "backports           jupyter             regcheck            win32service\n",
      "base64              jupyter_client      regex               win32serviceutil\n",
      "bcrypt              jupyter_console     regutil             win32timezone\n",
      "bdb                 jupyter_core        repo_cli            win32trace\n",
      "binaryornot         jupyter_server      reprlib             win32traceutil\n",
      "binascii            jupyterlab          requests            win32transaction\n",
      "binhex              jupyterlab_plotly   requests_file       win32ts\n",
      "binstar_client      jupyterlab_pygments rlcompleter         win32ui\n",
      "bisect              jupyterlab_server   rmagic              win32uiole\n",
      "bitarray            jupyterlab_widgets  rope                win32verstamp\n",
      "bkcharts            jwt                 rtree               win32wnet\n",
      "black               keyring             ruamel_yaml         win_inet_pton\n",
      "blackd              keyword             run                 win_unicode_console\n",
      "bleach              kiwisolver          runpy               wincertstore\n",
      "blib2to3            lazy_object_proxy   s3transfer          winerror\n",
      "bokeh               lib2to3             sched               winioctlcon\n",
      "boto3               libarchive          scipy               winnt\n",
      "botocore            libfuturize         scrapy              winperf\n",
      "bottleneck          libpasteurize       seaborn             winpty\n",
      "brotli              lief                secrets             winreg\n",
      "bs4                 linecache           select              winsound\n",
      "builtins            llvmlite            selectors           winxpgui\n",
      "bz2                 locale              send2trash          winxptheme\n",
      "cProfile            locket              service_identity    wrapt\n",
      "calendar            logging             servicemanager      wsgiref\n",
      "certifi             lxml                setuptools          xarray\n",
      "cffi                lz4                 shelve              xdrlib\n",
      "cgi                 lzma                shlex               xlrd\n",
      "cgitb               mailbox             shutil              xlsxwriter\n",
      "chardet             mailcap             signal              xlwings\n",
      "charset_normalizer  markdown            sip                 xml\n",
      "chunk               markupsafe          sipconfig           xmlrpc\n",
      "click               marshal             sipdistutils        xxsubtype\n",
      "cloudpickle         math                site                yaml\n",
      "clyent              matplotlib          six                 yapf\n",
      "cmath               matplotlib_inline   skimage             yapftests\n",
      "cmd                 mccabe              sklearn             zict\n",
      "code                menuinst            sklearnex           zipapp\n",
      "codecs              mimetypes           slugify             zipfile\n",
      "codeop              mistune             smart_open          zipimport\n",
      "collections         mkl                 smtpd               zipp\n",
      "colorama            mkl_fft             smtplib             zlib\n",
      "colorcet            mkl_random          snappy              zmq\n",
      "colorsys            mmap                sndhdr              zoneinfo\n",
      "commctrl            mmapfile            sniffio             zope\n",
      "\n",
      "Enter any module name to get more help.  Or, type \"modules spam\" to search\n",
      "for modules whose name or summary contain the string \"spam\".\n",
      "\n"
     ]
    }
   ],
   "source": [
    "# To know which modules are present in python\n",
    "help('modules')"
   ]
  },
  {
   "cell_type": "markdown",
   "id": "8a9a5496",
   "metadata": {},
   "source": [
    "### Loops in Python \n",
    "- For loop \n",
    "- While loop"
   ]
  },
  {
   "cell_type": "code",
   "execution_count": 54,
   "id": "dc8b0a17",
   "metadata": {},
   "outputs": [
    {
     "name": "stdout",
     "output_type": "stream",
     "text": [
      "Enter a number : 19\n",
      "19 * 1 =  19\n",
      "19 * 2 =  38\n",
      "19 * 3 =  57\n",
      "19 * 4 =  76\n",
      "19 * 5 =  95\n",
      "19 * 6 =  114\n",
      "19 * 7 =  133\n",
      "19 * 8 =  152\n",
      "19 * 9 =  171\n",
      "19 * 10 =  190\n"
     ]
    }
   ],
   "source": [
    "# While Loop\n",
    "# Print a Table\n",
    "number = int(input('Enter a number : '))\n",
    "i = 1\n",
    "while i <= 10:\n",
    "    print('{} * {} = '.format(number,i),number*i)\n",
    "    i += 1"
   ]
  },
  {
   "cell_type": "code",
   "execution_count": 56,
   "id": "ba84a6cb",
   "metadata": {},
   "outputs": [
    {
     "name": "stdout",
     "output_type": "stream",
     "text": [
      "1\n",
      "2\n",
      "3\n",
      "limit crossed\n"
     ]
    }
   ],
   "source": [
    "# While loop with else\n",
    "x = 1\n",
    "while x <= 3:\n",
    "    print(x)\n",
    "    x += 1\n",
    "else:\n",
    "    print('limit crossed')"
   ]
  },
  {
   "cell_type": "code",
   "execution_count": 59,
   "id": "c8f244e8",
   "metadata": {},
   "outputs": [
    {
     "name": "stdout",
     "output_type": "stream",
     "text": [
      "Make a guess90\n",
      "Incorrect Guess.Guess Lower\n",
      "Make a guess50\n",
      "Incorrect Guess.Guess Higher\n",
      "Make a guess70\n",
      "Incorrect Guess.Guess Higher\n",
      "Make a guess80\n",
      "Incorrect Guess.Guess Higher\n",
      "Make a guess85\n",
      "Incorrect Guess.Guess Higher\n",
      "Make a guess87\n",
      "Incorrect Guess.Guess Higher\n",
      "Make a guess89\n",
      "Incorrect Guess.Guess Lower\n",
      "Make a guess88\n",
      "You guessed it !.It took you 8 attempts to guess\n"
     ]
    }
   ],
   "source": [
    "# Guessing Game\n",
    "# Generate a random integer between 1 and 100\n",
    "import random\n",
    "jackpot = random.randint(1,100)\n",
    "\n",
    "guess = int(input('Make a guess'))\n",
    "count = 0\n",
    "while guess != jackpot:\n",
    "    if guess > jackpot:\n",
    "        print('Incorrect Guess.Guess Lower')\n",
    "    else:\n",
    "        print('Incorrect Guess.Guess Higher')\n",
    "    count += 1\n",
    "    guess = int(input('Make a guess'))\n",
    "else:\n",
    "    count += 1\n",
    "    print('You guessed it !.It took you {} attempts to guess'.format(count))"
   ]
  },
  {
   "cell_type": "code",
   "execution_count": 62,
   "id": "c2d0144c",
   "metadata": {},
   "outputs": [
    {
     "name": "stdout",
     "output_type": "stream",
     "text": [
      "1\n",
      "3\n",
      "5\n",
      "7\n",
      "9\n"
     ]
    }
   ],
   "source": [
    "# For loop demo\n",
    "for i in range(1,11,2):\n",
    "    print(i)"
   ]
  },
  {
   "cell_type": "code",
   "execution_count": 63,
   "id": "4df6e912",
   "metadata": {},
   "outputs": [
    {
     "name": "stdout",
     "output_type": "stream",
     "text": [
      "1\n",
      "2\n",
      "3\n",
      "4\n",
      "5\n"
     ]
    }
   ],
   "source": [
    "# For loop with sets\n",
    "for i in {1,2,3,4,5}:\n",
    "    print(i)"
   ]
  },
  {
   "cell_type": "code",
   "execution_count": 64,
   "id": "f61aabf4",
   "metadata": {},
   "outputs": [
    {
     "name": "stdout",
     "output_type": "stream",
     "text": [
      "1\n",
      "2\n",
      "3\n",
      "4\n",
      "5\n"
     ]
    }
   ],
   "source": [
    "# for loop with lists\n",
    "for i in [1,2,3,4,5]:\n",
    "    print(i)"
   ]
  },
  {
   "cell_type": "code",
   "execution_count": 65,
   "id": "f63bf0b8",
   "metadata": {},
   "outputs": [
    {
     "name": "stdout",
     "output_type": "stream",
     "text": [
      "1\n",
      "2\n",
      "3\n",
      "4\n",
      "5\n"
     ]
    }
   ],
   "source": [
    "# For loop with tuple\n",
    "for i in (1,2,3,4,5):\n",
    "    print(i)"
   ]
  },
  {
   "cell_type": "code",
   "execution_count": 71,
   "id": "b43c4284",
   "metadata": {},
   "outputs": [
    {
     "name": "stdout",
     "output_type": "stream",
     "text": [
      "('name', 'ipsita')\n",
      "('gender', 'female')\n",
      "('age', 34)\n"
     ]
    }
   ],
   "source": [
    "# for loop with dictionary\n",
    "dict = {'name':'ipsita','gender':'female','age': 34}\n",
    "for (k,v) in dict.items():\n",
    "    print((k,v))"
   ]
  },
  {
   "cell_type": "code",
   "execution_count": 72,
   "id": "2eea2382",
   "metadata": {},
   "outputs": [
    {
     "name": "stdout",
     "output_type": "stream",
     "text": [
      "10 10000\n",
      "9 9090.90909090909\n",
      "8 8264.462809917353\n",
      "7 7513.148009015775\n",
      "6 6830.134553650703\n",
      "5 6209.213230591548\n",
      "4 5644.739300537771\n",
      "3 5131.5811823070635\n",
      "2 4665.07380209733\n",
      "1 4240.976183724845\n"
     ]
    }
   ],
   "source": [
    "# Program : The current population of a town is 10000.\n",
    "# The population of the town is increasing at rate of 10% per year.\n",
    "# Write a program to find out population at end of each year.\n",
    "\n",
    "current_pop = 10000\n",
    "for i in range(10,0,-1):\n",
    "    print(i,current_pop)\n",
    "    current_pop = current_pop/1.1"
   ]
  },
  {
   "cell_type": "code",
   "execution_count": null,
   "id": "daa7a73e",
   "metadata": {},
   "outputs": [],
   "source": []
  },
  {
   "cell_type": "code",
   "execution_count": null,
   "id": "65532deb",
   "metadata": {},
   "outputs": [],
   "source": []
  }
 ],
 "metadata": {
  "kernelspec": {
   "display_name": "Python 3 (ipykernel)",
   "language": "python",
   "name": "python3"
  },
  "language_info": {
   "codemirror_mode": {
    "name": "ipython",
    "version": 3
   },
   "file_extension": ".py",
   "mimetype": "text/x-python",
   "name": "python",
   "nbconvert_exporter": "python",
   "pygments_lexer": "ipython3",
   "version": "3.9.13"
  }
 },
 "nbformat": 4,
 "nbformat_minor": 5
}
